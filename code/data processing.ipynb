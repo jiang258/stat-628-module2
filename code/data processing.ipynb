{
 "cells": [
  {
   "cell_type": "code",
   "execution_count": 238,
   "metadata": {},
   "outputs": [],
   "source": [
    "import json\n",
    "import pandas as pd"
   ]
  },
  {
   "cell_type": "markdown",
   "metadata": {},
   "source": [
    "read review_train, first process 10000"
   ]
  },
  {
   "cell_type": "code",
   "execution_count": 239,
   "metadata": {},
   "outputs": [],
   "source": [
    "data_file = 'review_train.json'\n",
    "sample = []\n",
    "with open(data_file, 'r') as f:\n",
    "    for line in f:\n",
    "        sample.append(line.rstrip())   "
   ]
  },
  {
   "cell_type": "code",
   "execution_count": 240,
   "metadata": {},
   "outputs": [],
   "source": [
    "for i in range(len(sample[:10000])):\n",
    "        if i == 0:\n",
    "            train10000 = pd.DataFrame(json.loads(sample[i]),index = [0])\n",
    "        else:\n",
    "            temp = pd.DataFrame(json.loads(sample[i]),index = [i])\n",
    "            train10000 = train10000.append(temp)     "
   ]
  },
  {
   "cell_type": "code",
   "execution_count": 241,
   "metadata": {},
   "outputs": [
    {
     "data": {
      "text/html": [
       "<div>\n",
       "<style scoped>\n",
       "    .dataframe tbody tr th:only-of-type {\n",
       "        vertical-align: middle;\n",
       "    }\n",
       "\n",
       "    .dataframe tbody tr th {\n",
       "        vertical-align: top;\n",
       "    }\n",
       "\n",
       "    .dataframe thead th {\n",
       "        text-align: right;\n",
       "    }\n",
       "</style>\n",
       "<table border=\"1\" class=\"dataframe\">\n",
       "  <thead>\n",
       "    <tr style=\"text-align: right;\">\n",
       "      <th></th>\n",
       "      <th>business_id</th>\n",
       "      <th>stars</th>\n",
       "      <th>text</th>\n",
       "      <th>date</th>\n",
       "    </tr>\n",
       "  </thead>\n",
       "  <tbody>\n",
       "    <tr>\n",
       "      <th>0</th>\n",
       "      <td>31292</td>\n",
       "      <td>1.0</td>\n",
       "      <td>Total bill for this horrible service? Over $8G...</td>\n",
       "      <td>2013-05-07 04:34:36</td>\n",
       "    </tr>\n",
       "    <tr>\n",
       "      <th>1</th>\n",
       "      <td>35344</td>\n",
       "      <td>5.0</td>\n",
       "      <td>I *adore* Travis at the Hard Rock's new Kelly ...</td>\n",
       "      <td>2017-01-14 21:30:33</td>\n",
       "    </tr>\n",
       "    <tr>\n",
       "      <th>2</th>\n",
       "      <td>152538</td>\n",
       "      <td>5.0</td>\n",
       "      <td>I have to say that this office really has it t...</td>\n",
       "      <td>2016-11-09 20:09:03</td>\n",
       "    </tr>\n",
       "    <tr>\n",
       "      <th>3</th>\n",
       "      <td>71871</td>\n",
       "      <td>5.0</td>\n",
       "      <td>Went in for a lunch. Steak sandwich was delici...</td>\n",
       "      <td>2018-01-09 20:56:38</td>\n",
       "    </tr>\n",
       "    <tr>\n",
       "      <th>4</th>\n",
       "      <td>64913</td>\n",
       "      <td>1.0</td>\n",
       "      <td>Today was my second out of three sessions I ha...</td>\n",
       "      <td>2018-01-30 23:07:38</td>\n",
       "    </tr>\n",
       "  </tbody>\n",
       "</table>\n",
       "</div>"
      ],
      "text/plain": [
       "   business_id  stars                                               text  \\\n",
       "0        31292    1.0  Total bill for this horrible service? Over $8G...   \n",
       "1        35344    5.0  I *adore* Travis at the Hard Rock's new Kelly ...   \n",
       "2       152538    5.0  I have to say that this office really has it t...   \n",
       "3        71871    5.0  Went in for a lunch. Steak sandwich was delici...   \n",
       "4        64913    1.0  Today was my second out of three sessions I ha...   \n",
       "\n",
       "                  date  \n",
       "0  2013-05-07 04:34:36  \n",
       "1  2017-01-14 21:30:33  \n",
       "2  2016-11-09 20:09:03  \n",
       "3  2018-01-09 20:56:38  \n",
       "4  2018-01-30 23:07:38  "
      ]
     },
     "execution_count": 241,
     "metadata": {},
     "output_type": "execute_result"
    }
   ],
   "source": [
    "train10000.head()"
   ]
  },
  {
   "cell_type": "markdown",
   "metadata": {},
   "source": [
    "first just retain English reviews"
   ]
  },
  {
   "cell_type": "code",
   "execution_count": 242,
   "metadata": {},
   "outputs": [],
   "source": [
    "import langid\n",
    "for i in range(10000):\n",
    "        train10000.loc[i,'lang'] = langid.classify(train10000.text[i])[0]"
   ]
  },
  {
   "cell_type": "code",
   "execution_count": 243,
   "metadata": {},
   "outputs": [
    {
     "data": {
      "text/plain": [
       "en    9954\n",
       "fr      37\n",
       "es       3\n",
       "de       2\n",
       "ja       1\n",
       "zh       1\n",
       "it       1\n",
       "mg       1\n",
       "Name: lang, dtype: int64"
      ]
     },
     "execution_count": 243,
     "metadata": {},
     "output_type": "execute_result"
    }
   ],
   "source": [
    "train10000.lang.value_counts()"
   ]
  },
  {
   "cell_type": "markdown",
   "metadata": {},
   "source": [
    "train_temp contains 9954 only English reviews"
   ]
  },
  {
   "cell_type": "code",
   "execution_count": 244,
   "metadata": {},
   "outputs": [],
   "source": [
    "train_temp = train10000[train10000.lang == 'en']\n",
    "train_temp.index = list(range(9954))"
   ]
  },
  {
   "cell_type": "markdown",
   "metadata": {},
   "source": [
    "1.some common emoticons convert to words"
   ]
  },
  {
   "cell_type": "code",
   "execution_count": 245,
   "metadata": {},
   "outputs": [],
   "source": [
    "import re\n",
    "def convert_emo(text):\n",
    "    re_happy = r\"(:-\\)|:\\)|:-\\]|:\\]|:3|:c\\)|:>|8\\)|8-\\)|:o\\)|=\\)|:\\}|:\\^\\)|:-\\)\\))\" \n",
    "    re_laugh = r\"(:‑D|:D|8‑D|8D|x‑D|xD|X‑D|XD|=‑D|=D|=‑3|=3|B\\^D)\" \n",
    "    re_sad = r\"(:‑\\(|:\\(|:‑c|:c|:‑<|:<|:‑\\[|:\\[|:\\{|;\\(|>:\\[)\" \n",
    "    re_angry = r\"(:-\\|\\||:@|>:\\()\" \n",
    "    re_cry = r\"(:'‑\\(|:'\\()\" \n",
    "    re_horror = r\"(D:<|D:|D8|D;|D=|DX|D‑':|v\\.v)\" \n",
    "    re_surprise = r\"(>:O|:‑O|:O|:‑o|:o|8‑0|O_O|o‑o|O_o|o_O|o_o|O-O)\" \n",
    "    re_kiss = r\"(:\\*|:-\\*|:\\^\\*|\\( '\\}\\{'\\))\" \n",
    "    re_wink = r\"(;‑\\)|;\\)|\\*-\\)|\\*\\)|;‑\\]|;\\]|;D|;\\^\\)|:‑,)\" \n",
    "    re_skeptical = r\"(>:\\\\\\\\|>:/|:‑/|:‑\\.|:/|:\\\\\\\\|=/|=\\\\\\\\|:L|=L|:S|>\\.<)\" \n",
    "    text = re.sub(re_happy,' happy ',text)\n",
    "    text = re.sub(re_laugh,' laugh ',text)\n",
    "    text = re.sub(re_sad,' sad ',text)\n",
    "    text = re.sub(re_angry,' angry ',text)\n",
    "    text = re.sub(re_cry,' cry ',text)\n",
    "    text = re.sub(re_horror,' horror ',text)\n",
    "    text = re.sub(re_surprise,' surprise ',text)\n",
    "    text = re.sub(re_kiss,' kiss ',text)\n",
    "    text = re.sub(re_wink,' wink ',text)\n",
    "    text = re.sub(re_skeptical,' skeptical ',text)\n",
    "    return text"
   ]
  },
  {
   "cell_type": "code",
   "execution_count": 246,
   "metadata": {},
   "outputs": [
    {
     "data": {
      "text/plain": [
       "' skeptical  I am a pig.  laugh '"
      ]
     },
     "execution_count": 246,
     "metadata": {},
     "output_type": "execute_result"
    }
   ],
   "source": [
    "convert_emo(\">.< I am a pig. :D\") #example"
   ]
  },
  {
   "cell_type": "code",
   "execution_count": 247,
   "metadata": {},
   "outputs": [],
   "source": [
    "train_temp.text = train_temp.text.apply(convert_emo)"
   ]
  },
  {
   "cell_type": "markdown",
   "metadata": {},
   "source": [
    "remove \\\\n (text = re.sub('\\\\n',' ',text)"
   ]
  },
  {
   "cell_type": "code",
   "execution_count": 251,
   "metadata": {},
   "outputs": [],
   "source": [
    "def remove_gangn(text):\n",
    "    text = re.sub('\\n',' ',text)\n",
    "    return text"
   ]
  },
  {
   "cell_type": "code",
   "execution_count": 252,
   "metadata": {},
   "outputs": [],
   "source": [
    "train_temp.text = train_temp.text.apply(remove_gangn)"
   ]
  },
  {
   "cell_type": "markdown",
   "metadata": {},
   "source": [
    "2.lowercase (str.lower())"
   ]
  },
  {
   "cell_type": "markdown",
   "metadata": {},
   "source": [
    "3.first remove '_'  for need to add not_, and phrases later"
   ]
  },
  {
   "cell_type": "code",
   "execution_count": 254,
   "metadata": {},
   "outputs": [],
   "source": [
    "def rm_underline(text):\n",
    "    text = re.sub('_',' ',text.lower())\n",
    "    return text"
   ]
  },
  {
   "cell_type": "code",
   "execution_count": 74,
   "metadata": {},
   "outputs": [
    {
     "data": {
      "text/plain": [
       "'I am a  pig.'"
      ]
     },
     "execution_count": 74,
     "metadata": {},
     "output_type": "execute_result"
    }
   ],
   "source": [
    "rm_underline('I am a _pig.') #example"
   ]
  },
  {
   "cell_type": "code",
   "execution_count": 255,
   "metadata": {},
   "outputs": [],
   "source": [
    "train_temp.text = train_temp.text.apply(rm_underline)"
   ]
  },
  {
   "cell_type": "markdown",
   "metadata": {},
   "source": [
    "4.convert n't to not, 'm to am, 's to is, 've to have, 'd to would"
   ]
  },
  {
   "cell_type": "code",
   "execution_count": 257,
   "metadata": {},
   "outputs": [],
   "source": [
    "def convert_abb(text):\n",
    "    text = re.sub('n\\'t',' not',text)\n",
    "    text = re.sub('\\'m',' am',text)\n",
    "    text = re.sub('\\'s', ' is',text)\n",
    "    text = re.sub('\\'ve',' have',text)\n",
    "    text = re.sub('\\'d',' would',text)\n",
    "    return text"
   ]
  },
  {
   "cell_type": "code",
   "execution_count": 106,
   "metadata": {},
   "outputs": [
    {
     "data": {
      "text/plain": [
       "'I do not like pigs. I am pig. I have pigs.'"
      ]
     },
     "execution_count": 106,
     "metadata": {},
     "output_type": "execute_result"
    }
   ],
   "source": [
    "convert_abb(\"I don't like pigs. I'm pig. I've pigs.\") #example"
   ]
  },
  {
   "cell_type": "code",
   "execution_count": 258,
   "metadata": {},
   "outputs": [],
   "source": [
    "train_temp.text = train_temp.text.apply(convert_abb)"
   ]
  },
  {
   "cell_type": "markdown",
   "metadata": {},
   "source": [
    "5.add not_ "
   ]
  },
  {
   "cell_type": "code",
   "execution_count": 260,
   "metadata": {},
   "outputs": [],
   "source": [
    "import re\n",
    "def add_negation(text):\n",
    "    negation = ['not', 'never', 'lack', 'no','hardly','rarely']\n",
    "    words = text.split()[:]\n",
    "    flag = 0\n",
    "    for index, word in enumerate(words):\n",
    "        if(flag != 0):\n",
    "            words[index] = 'not_' + words[index]\n",
    "        if(re.match('.*[;,.?!\\'\\\"]$', word)):\n",
    "            flag = 0\n",
    "        if(word in negation):\n",
    "            flag = 1\n",
    "    text = \" \".join(words)\n",
    "    return(text)"
   ]
  },
  {
   "cell_type": "code",
   "execution_count": 98,
   "metadata": {},
   "outputs": [
    {
     "data": {
      "text/plain": [
       "'I do not not_like not_pigs, but I like piggy.'"
      ]
     },
     "execution_count": 98,
     "metadata": {},
     "output_type": "execute_result"
    }
   ],
   "source": [
    "add_negation(\"I do not like pigs, but I like piggy.\") #example"
   ]
  },
  {
   "cell_type": "code",
   "execution_count": 261,
   "metadata": {},
   "outputs": [],
   "source": [
    "train_temp.text = train_temp.text.apply(add_negation)"
   ]
  },
  {
   "cell_type": "markdown",
   "metadata": {},
   "source": [
    "6. remove punctuations : "
   ]
  },
  {
   "cell_type": "code",
   "execution_count": 263,
   "metadata": {},
   "outputs": [],
   "source": [
    "def remove_punc(text):\n",
    "    text = re.sub('[/*-?!:;,\\.\\'\\\"\\)\\(]', ' ', text)\n",
    "    return text"
   ]
  },
  {
   "cell_type": "code",
   "execution_count": 264,
   "metadata": {},
   "outputs": [],
   "source": [
    "train_temp.text = train_temp.text.apply(remove_punc)"
   ]
  },
  {
   "cell_type": "markdown",
   "metadata": {},
   "source": [
    "7. lemmatization"
   ]
  },
  {
   "cell_type": "code",
   "execution_count": 266,
   "metadata": {},
   "outputs": [],
   "source": [
    "from nltk import word_tokenize, pos_tag\n",
    "from nltk.corpus import wordnet\n",
    "from nltk.stem import WordNetLemmatizer\n",
    "#nltk.download('averaged_perceptron_tagger')"
   ]
  },
  {
   "cell_type": "code",
   "execution_count": 274,
   "metadata": {},
   "outputs": [],
   "source": [
    "def lemmatizer_all(text):\n",
    "    new_text = []\n",
    "    lemmatizer = WordNetLemmatizer()\n",
    "    for word, tag in pos_tag(word_tokenize(text)):\n",
    "        if tag.startswith('NN'):\n",
    "            new_text.append(lemmatizer.lemmatize(word, pos='n'))\n",
    "        elif tag.startswith('VB'):\n",
    "            new_text.append(lemmatizer.lemmatize(word, pos='v'))\n",
    "        elif tag.startswith('JJ'):\n",
    "            new_text.append(lemmatizer.lemmatize(word, pos='a'))\n",
    "        elif tag.startswith('R'):\n",
    "            new_text.append(lemmatizer.lemmatize(word, pos='r'))\n",
    "        else:\n",
    "            new_text.append(word)\n",
    "    return ' '.join(new_text)"
   ]
  },
  {
   "cell_type": "code",
   "execution_count": 268,
   "metadata": {},
   "outputs": [
    {
     "data": {
      "text/plain": [
       "'I have many pig . I care their health , and they like swim .'"
      ]
     },
     "execution_count": 268,
     "metadata": {},
     "output_type": "execute_result"
    }
   ],
   "source": [
    "' '.join(lemmatizer_all('I have many pigs. I cared their health, and they like swimming.')) #example"
   ]
  },
  {
   "cell_type": "code",
   "execution_count": 276,
   "metadata": {},
   "outputs": [
    {
     "name": "stderr",
     "output_type": "stream",
     "text": [
      "/Users/jiangyunwen/anaconda3/lib/python3.7/site-packages/ipykernel_launcher.py:1: SettingWithCopyWarning: \n",
      "A value is trying to be set on a copy of a slice from a DataFrame\n",
      "\n",
      "See the caveats in the documentation: http://pandas.pydata.org/pandas-docs/stable/indexing.html#indexing-view-versus-copy\n",
      "  \"\"\"Entry point for launching an IPython kernel.\n"
     ]
    }
   ],
   "source": [
    "train_temp.text.loc[:100] = train_temp.text.loc[:100].apply(lemmatizer_all)"
   ]
  },
  {
   "cell_type": "code",
   "execution_count": 305,
   "metadata": {},
   "outputs": [
    {
     "data": {
      "text/plain": [
       "0      total bill for this horrible service over $ gs...\n",
       "1      i adore travis at the hard rock be new kelly c...\n",
       "2      i have to say that this office really have it ...\n",
       "3      go in for a lunch steak sandwich be delicious ...\n",
       "4      today be my second out of three session i have...\n",
       "5      i ll be the first to admit that i be not not_e...\n",
       "6      tracy dessert have a big name in hong kong and...\n",
       "7      this place have go down hill clearly they have...\n",
       "8      it be a giant best buy with register i do not ...\n",
       "9      like walk back in time every saturday morning ...\n",
       "10     walk in around on a friday afternoon we sit at...\n",
       "11     wow so surprised at the one and two star revie...\n",
       "12     michael from red carpet vip be amaze i reach o...\n",
       "13     i can not believe how thing have change in yea...\n",
       "14     you ca not not_really not_find not_anything no...\n",
       "15     great lunch today staff be very helpful in ass...\n",
       "16     we have be a huge slim be fan since they open ...\n",
       "17     good selection of class of beer and main i hav...\n",
       "18     the food be always good and the price be reaso...\n",
       "19     pick any meat on the planet and the chef will ...\n",
       "20     plumbsmart provide superior service from begin...\n",
       "21     unfortunately i must recommend not not_to not_...\n",
       "22     their pettuccine be fresh make in the morning ...\n",
       "23     if i can give this place no not_stars not_i no...\n",
       "24     this review be in regard to our experience wat...\n",
       "25     end up here because raku be close and it recei...\n",
       "26     i try this place because my girl be away for a...\n",
       "27     love this place downtown but the scottsdale lo...\n",
       "28     best chinese resto highly recommend star let u...\n",
       "29     go here last weekend and be pretty disappointe...\n",
       "                             ...                        \n",
       "71     they charge me twice what i expect to pay the ...\n",
       "72     quiet bar and grill great waitress and the mar...\n",
       "73     they come out when they say they would do the ...\n",
       "74     this be my first yelp this restaurant be soo g...\n",
       "75     overall the food be really good we have brusch...\n",
       "76     prc consult on tile roof replacement at apartm...\n",
       "77     awful place staff be not not_nice very rude th...\n",
       "78     so many great this about yoga factory excellen...\n",
       "79     i have no not_idea not_what not_the not_owner ...\n",
       "80     i use to work food service and my manager at t...\n",
       "81     early this past january i need to find a furni...\n",
       "82     i really enjoy come here it locate near walnut...\n",
       "83     ok so i have purchase item from rc wiley and h...\n",
       "84     let me start by say that i love aveda which be...\n",
       "85     place take forever come to find out that they ...\n",
       "86     cut little dive bar in the city chill vibe che...\n",
       "87     really happy to have such a unique place like ...\n",
       "88     these darn northerner really know how to make ...\n",
       "89     we have have a wonderful experience with dr be...\n",
       "90     i have be come to loco on mill since they open...\n",
       "91     order combo it come with two plate or rice or ...\n",
       "92     hey i just want to say everytime i eat here si...\n",
       "93     not not_sure not_why not_some not_posted not_n...\n",
       "94     after be a huge fan of the mission i decide to...\n",
       "95     best thai food ever love the mango curry espec...\n",
       "96     we have shop there for several year and always...\n",
       "97     what an awesome pool party i wish there be a t...\n",
       "98     i just have a terrible experience with dr jenn...\n",
       "99     i love pizza but i try to stay away for dietar...\n",
       "100    be very excited for happy hour and heard great...\n",
       "Name: text, Length: 101, dtype: object"
      ]
     },
     "execution_count": 305,
     "metadata": {},
     "output_type": "execute_result"
    }
   ],
   "source": [
    "train_temp.text.loc[:100]"
   ]
  },
  {
   "cell_type": "markdown",
   "metadata": {},
   "source": [
    "8.remove some not important words like 'to','in',.'he','she',......"
   ]
  },
  {
   "cell_type": "code",
   "execution_count": 329,
   "metadata": {},
   "outputs": [],
   "source": [
    "no_importance_pos = ['IN','MD','PRP','PRP$','TO','WDT','WP','WP$','WRB']\n",
    "no_importance_word = ['i','he','she','they','the','a','an','this','that','those','be']\n",
    "only_text = []\n",
    "for i in range(100):\n",
    "    only_text.append(' '.join(train_temp.text.loc[i].split(' ')))"
   ]
  },
  {
   "cell_type": "code",
   "execution_count": 332,
   "metadata": {},
   "outputs": [],
   "source": [
    "new_text = []\n",
    "for sentence in only_text:\n",
    "    retain = []\n",
    "    POS = pos_tag(sentence.split(' '))\n",
    "    for word in POS:\n",
    "        if word[1] not in no_importance_pos and word[0] not in no_importance_word and len(word[0])!= 1:\n",
    "            retain.append(word[0])\n",
    "    new_text.append(' '.join(retain))    "
   ]
  },
  {
   "cell_type": "markdown",
   "metadata": {},
   "source": [
    "9.phrases"
   ]
  },
  {
   "cell_type": "code",
   "execution_count": 334,
   "metadata": {},
   "outputs": [],
   "source": [
    "from gensim.models.phrases import Phrases, Phraser"
   ]
  },
  {
   "cell_type": "code",
   "execution_count": 340,
   "metadata": {},
   "outputs": [],
   "source": [
    "only_word = [sentence.split(' ') for sentence in new_text]"
   ]
  },
  {
   "cell_type": "code",
   "execution_count": 342,
   "metadata": {},
   "outputs": [],
   "source": [
    "bigram = Phraser(Phrases(only_word, min_count=5, threshold=5))"
   ]
  },
  {
   "cell_type": "code",
   "execution_count": 343,
   "metadata": {},
   "outputs": [],
   "source": [
    "final_text = []\n",
    "for i in range(100):\n",
    "    final_text.append(' '.join(bigram[only_word[i]]))"
   ]
  },
  {
   "cell_type": "code",
   "execution_count": 344,
   "metadata": {},
   "outputs": [
    {
     "data": {
      "text/plain": [
       "['total bill horrible service gs these crook actually have nerve charge pill check online pill have cent each avoid hospital er all cost',\n",
       " 'adore travis hard rock new kelly cardenas salon always fan great blowout and no not_stranger not_to not_the not_chains not_offer not_this not_service however travis have take flawless blowout whole new level travis greets perfectly green swoosh otherwise perfectly style black hair and vega worthy rockstar outfit next come most relaxing and incredible shampoo get full head message cure even very bad migraine minute and scented shampoo room travis have freakishly strong finger good way and use perfect amount pressure superb then start glorious blowout not not_one not not_two but three people involve do best round brush action hair have ever see team stylist clearly get extremely well evident way talk and help one another really genuine and not not_some not_corporate not_requirement so much fun there next travis start flat iron way flip wrist get volume all do and make look texas pagent girl admirable also worth note do_not not_fry not_my not_hair not_ not_something not_that not_i not_have not_had not_happen not_before not_with not_less not_skilled not_stylists end blowout style hair perfectly bouncey and look terrific only thing well awesome blowout last day travis see every single time out vega make feel beauuuutiful',\n",
       " 'have say office really have together so organized and friendly dr phillipp great dentist very friendly and professional dental assistant help procedure amazing jewel and bailey help feel comfortable do_not not_have not_dental not_insurance but have insurance office purchase something year and give all dental work plus help get sign up care credit know nothing visit highly_recommend office nice synergy whole office have',\n",
       " 'go lunch steak sandwich delicious and caesar salad have absolutely delicious dress perfect amount dressing and distribute perfectly each leaf know go salad but perfect drink price pretty good server dawn friendly and accommodate very happy summation great pub experience go again',\n",
       " 'today second three session have pay first session go well tell meredith have particular enjoyment male client female however return do teeth fine and please result go today whitening room three other gentleman appointment start out well person service industry always attend female clientele first couple arrive unbothered sign wait turn check once original minute timer ask ok attend boyfriend numerous occasion as_well other men and exit room even ask or look see have any irritation half way another woman have show up explain deal lobby admit timer reset half way process reset boyfriend leave rest gentleman furthest away have time come redeem deal get set and give timer do then leave and point time minute have reset minute ago accord sit there patiently whole time major pain gum watch time lamp shut not not_only not_had not_she not_reset not_two not_others explain deal other guest but never not_once not_checked not_on not_my not_time light turn off release stance mouth more relaxed state assume only get thirty minute session instead usual have yet come point teeth formula not not_only not_burning not_the not_gum not_she not_neglected not_for not_ not_minutes not_now but begin burn lip begin squeal and slap chair try get attention other room panic so much pain time enter room already chair finally then acknowledge and ask put vitamin gum burn picture point have treat two other gum burn neglect and so irritated have suffer all want leave wait boyfriend keep harass issue say well burn come teeth whiten totally agree and justifiable circumstance not not_be not_as not_irritate have easily avoid have check even second time let know not not_only not_did not_she not_never not_check not_on not_my not_physical not_health not_not_even not_take not_two not_seconds not_to not_reset not_the not_timer even admit accuse come do but have light off solid two minute not not_stand not_the not_pain admit reset every minute mean minute do_not not_bother not_to not_help not_me not_at not_all guest lobby then proceed attack well simply want leave way treat also expect refund not not_getting not_a not_complete not_session not_today due neglect and fact not not_be not_returning not_for not_my have fail do even scream door and continue boyfriend and step have_never not_in not_my not_life not_been not_more not_appalled not_by not_a not_grown not_woman not_is not_behavior claim business year admit wrong but do_not not_make not_your not_guest not_feel not_unwelcome not_because not_you not_ca not_not not_you not_job not_properly',\n",
       " 'll first admit not not_excited not_going not_to not_la not_tavolta food snob group friend suggest go dinner look online menu and there nothing special and seem overpriced im also not not_big not_on not_ordering not_pasta not_when not_i not_go ala outnumber thank goodness order sea bass special die cook perfectly season perfectly perfect portion not not_say not_enough not_good not_things not_this not_dish server ask seem very proud dish and say do_not not_she not_chef not_do not_an not_incredible not_job do hubby get crab tortellini and also love heard mmmm so good all table waiter super nice and even give free dessert some last people restaurant service very slow and place pack but have jug wine and large group good conversation do_not not_seem not_to not_bother not_anyone so do order calamari and fry zucchini appetizer leave out mussel have sea bass special highly_recommend chicken parm and crab tortellini also very good and very big chicken romano bit house salad teeny do make reservation but still expect wait food go large group people and plan loud do_not not_go not_with not_a not_date not_unless not_you re not_fighting not_and not_do not_not not_feel not_hearing not_anything not_they not_have not_to not_say ask sit side room available',\n",
       " 'tracy dessert have big name hong kong and one first markham place have here many year now come some chinese dessert and say selection have increase tremendously year as_well price have also increase tremendously as_well waitress give taste have red date fancy simple taro coconut tapioca pearl or something basically all dessert more crazy literally just make dessert home and bowl probably cost few year ago think still get more reasonable but wow more little top dessert say tracy dessert and little more expensive side also saw other item menu fish ball chicken wing shave ice friend get mango drink fresh mango also surprised many people come tracy dessert work come sunday and table always fill think amount table have just perfect no not_one not_really not_waited not_for not_seats not_for not_a not_long not_time but table keep fill up once table finish',\n",
       " 'place have go down hill clearly have cut back staff and food quality many review write menu change have go year and food quality have go down hill service slow salad as bad get just not not_worth not_spending not_the not_money not_this_not_place not_when not_there not_are not_so not_many not_other not_options',\n",
       " 'giant best buy register do_not not_get not_it big deal place',\n",
       " 'walk back time every saturday morning sister and bowling league and do spend few quarter play pin ball machine mother come pick up sister dare and play machine hard afraid tilt show up and freeze game other hand bit more gentler and want make sure get quarter place have row and row machine some really old and some more mid theme there even pac man fun spend afternoon play machine and remember all fun early teen year',\n",
       " 'walk friday afternoon sit table just bar and walk min or so do_not not_even not_think not_they not_realized not_we not_walked not_in however everyone bar notice walk service non existent best not not_a not_good not_way not_for not_a not_new not_business not_to not_start oh well location have different thing past several year so just add list smdh',\n",
       " 'wow so surprised one and two star review start most tender calamari marinara sauce bit bland but touch salt make just right husband have veal pepper and say so delicious and tender mash potato perfect have salmon diablo also delicious salad beautiful dress serve salad and nice amount end delicious meal piece tiramisu server matt right very pleasant and knowledgeable menu appetizer salad and entree time perfectly love salad and do_not not_mind not_that not_my not_entree not_was not_served not_while not_i not_was not_eating not_it no not_problem not_it not_let not_my not_dinner not_cool not_to not_just not_the not_right not_temp not_for not_me not_to not_eat not_it not_comfortably wonder sometimes people just do_not not_appreciate not_relaxing not_and not_taking not_time not_to not_eat not_a not_wonderful not_and not_beautifully not_prepared wonderful atmosphere so relax chair super comfortable too certainly back give try do_not not_always not_go not_by not_the not_reviews bottle riesling calamari app two delicious entree and dessert well',\n",
       " 'michael red carpet vip amaze reach out need help plan soon sister law bachelorette group girl little overwhelmed but michael save day everything super smooth and easy get good deal and have best time ever book hotel and bachelorette package great price have save contact info sure reach out again next vega trip',\n",
       " 'not believe thing have change year pick up duck congee sometime winter hubby sick very disappointed ginger fish sauce taste have go bad never not_be not_bitter today hubby want eat there crave duck congee and most place do_not not_serve not_the not_duck not_ not_coleslaw wait minute get menu place order wait another minute get tea most place bring menu go detail but gist story understaffed or staff slow bad part service server make feel bad ask anything take order have arrive and place order another couple least minute ahead but somehow couple receive pho mine almost do eat pho mine come out',\n",
       " 'not not_really not_anything not_wrong not_with not_this_not_place pasta and pizza both amazing and high quality price very reasonable owner and staff very friendly re downtown check place out lot people think just downtown there lot option but not not_always not_the not_case not_as not_there not_is not_also not_a not_lot not_of not_poor not_quality not_food not_in not_downtown not_as not_well',\n",
       " 'great lunch today staff very helpful assist selection and knowledgeable ingredient enjoy bbq chicken tika masala sauce and really good naan bread biryani chicken also yummy fun see food prepare tandoori ovens great addition fast casual scene cleveland',\n",
       " 'have huge slim fan open one up texas two year ago use live there place never not_disappoints even have great salad and grill chicken plus have fresh brew sweet tea best',\n",
       " 'good selection class beer and main have here twice first time have fry chicken delicious but warn extremely salty not_not_even not_finish not_the not_last not_piece not_of not_chicken not_after not_experiencing not_a not_salt not_overload second time come wednesday do_not not_know not_it not_was not_bbq have completely different menu and do_not not_offer not_anything not_their not_original not_vegetarian friendly not_menu menu have one vegetarian friendly option eggplant sandwich vegetarian party say awful also bbq night choose side all side fry and potato salad not not_say not_i not_was not_thrilled not_to not_have not_carb not_heavy not_sides not_with not_my not_carb not_heavy not_main do run side so early evening service not not_so not_great avoid come_here wednesday',\n",
       " 'food always good and price reasonable not not_exactly not_a not_restaurant not_ not_more not_like not_a not_snack not_bar limit menu and walk up counter place order wait minute or so prepare order and pay cashier then search table kind sandwich shop still much good choice value other hotel deli strip',\n",
       " 'pick any meat planet and chef make mexican style dish amazing flavor wow fish and lamb taco die drink great well',\n",
       " 'plumbsmart provide superior service begin end able repair badly damage sewer pipe only one day notice particularly pleased attention care clean up landscape job complete competitive pricing and excellent service make first stop all future plumb thank wayne and whole team scott',\n",
       " 'unfortunately recommend not not_to not_conduct not_any not_business not_fast not_fix not_jewelry not_and not_watch staff completely unprofessional and have_never not_been not_treated not_so not_rudely not_in not_my not_life actually shock and walk away think wow do people even have job have_never not_written not_a not_negative not_review usually chalk up someone have bad day have work customer service year and know exhaust and bad day happen but special occasion drive minute try find someone help repair watch band barely greet arrival and right away felt bother girl counter obviously just want leave blond kid work snap ask question and re ask order clarify say snap again and say already tell even authentic shouting shoulder work something else shock and just stand there put watch away awkwardly and leave no not_one not_else not_saying not_a not_word not_to not_me there lot place fix jewelry city and take business elsewhere and recommend people read review do same some place just do_not not_deserve not_a not_loyal not_customer not_base',\n",
       " 'pettuccine fresh make morning very delicate and yummy owner and staff super kind and delightful also have veal piccata classic love restaurant',\n",
       " 'give place no not_stars not_i not_would only have hot pot so im not not_a not_good not_judge not_anything not_besides not_shabu say quantity small price expensive quality and quantity and taste soup base bland just put hot water sauce selection limit and not not_very not_fresh clean not_my not_perspective love hot pot and never not_go not_back not_again not_home not_made not_hot not_pot not_can not_be not_much not_better not_this_not_place not_even not_trying anyways have good appetite hot pot do favor and skip place make miserable',\n",
       " 'review regard experience watch superbowl february westgate theater auditorium watch game somewhere else unfamiliar big game experience westgate typically get line watch superbowl theater portion hotel around superbowl sunday line get extremely long yet early get line choice seat significantly improve so wait line few hour notify low portion theater reserve pay customer previously purchase wristband include alcohol and hot dog and instead seat balcony portion theater no problem something different say mistake so happy pm send upstairs balcony take seat and prepare watch big game happy take seat one re group hold seat rest go out casino floor and gamble or go sport book and place couple last minute bet please note patron leave auditorium receive hand stamp or wristband allow reentry theater but instead tell westgate staff no not_hand not_stamps not_or not_wristbands not_be not_given not_and not_we not_were not_on not_our not_own not_if not_we not_choose not_to not_leave not_and not_we not_not not_be not_allowed not_back not_in wow right wait line all morning want go downstairs play blackjack place bet book or maybe have bite eat no not_food not_was not_made not_available not_upstairs not_we not_be not_of not_luck nice work westgate seat upstairs stuck no not_food not_or not_soda not_available not_for not_purchase only beer and water sell balcony food counter vigorously complain westgate staff usher yellow jacket and security black jacket pm wristband give out hot dog and soda make available sale balcony believe direct result all upset patron seat balcony level summary big sportbook la vega place dysfunction and fail satisfy most basic request provide food and comfort bet patron total mess place suck watch big game and bet money some else',\n",
       " 'end up here raku close and receive great rating yelp so glad come_here one good meal have have start off mushroom dish and lettuce wrap both amaze lettuce wrap have flavor party mouth also have panang duck terrific highly_recommend all three dish one dish not not_so not_good not_the not_seabass not_with not_drunken not_noodles overall excellent meal intimate setting and great service definitely back',\n",
       " 'try place girl away month and really want try wait come back nobody hold candle but toe desperate go almost twice usually pay begin then start pedicure specifically tell already have gel polish toe do_not not_tell not_me not_right not_then not_and not_there not_ not_will not_be not_an not_extra not_ no wait time pay and not not_only not_charged not_me not_for not_that but charge all kind extra fee do_not not_even not_ask not_for have also inform girl toenail loose and glue look phone all sudden felt sensation and rip off toenail even ask so then have another girl come and put acrylic there nail underneath only grow again do_not not_tell not_me not_how not_much not_this not_be or even ask permission just charge end added stone amassage barely massage rub stone up low leg couple time and last second and ask design use get board bunch design choose do_not not_even not_ask not_me not_i not_wanted just paint few line two toe and then charge more dollar ugh do_not not_care not_how not_ugly not_my not_toes not_look not_next not_time never not_go not_anywhere not_else not_besides not_bella not_nails not_again rock place appal do_not not_want not_to not_make not_a not_scene just pay money but never not_go not_back',\n",
       " 'love place downtown but scottsdale location have no not_manners sit bar min bartender ignore no not_menu no not_water walk out and have care less',\n",
       " 'best chinese resto highly_recommend star let support business best west valley wont gi wrong come place',\n",
       " 'go here last weekend and pretty disappointed do_not not_have not_one not_thing not_that not_was not_pictured not_and not_recommended not_on not_yelp not_being not_good start steak grill skewer just ok nothing special freind get lasagna and get some special chicken dish both pretty bland and lack kick waitress really nice and get manger switch out dish freind get hamburger and get shrimp scampi hamburger well then lasagna but still lack flavor scampi well then chicken but also still season and noodle bit cook such big name attach restaurant and go such empty stomach have such high hop service great give three star',\n",
       " 'place epitomize rumor transformation process take place pittsburgh great food drink and service but atmosphere second none definitely visit local and visitor not not_feel not_you re not_in not_ pittsburgh',\n",
       " 'keep there appointment time and pretty efficient however very disappointed think just girl do_not not_know not_what not_is not_going not_on not_with not_my not_car not_is not_tires guy help out tell two front tire tread extremely low and need two new tire month or two tell show same tire have there now and much have take car other discount tire tell tread actually still really good many mile have car tell price two tire have just buy two new one couple month and same price buy two new tire tire pressure light come not not_long not_after honestly feel tire not_not_even not_new not_and not_did not_not not_look not_worth not_',\n",
       " 'meet friend dinner there tonight server only bring one menu bring couple coke do_not not_come not_to not_our not_table not_for not_ not_mins try get attention few time walk decide just order off bartender receive starter and main same time wing brisket and mac and cheese alright best point have not not_seen not_the not_server not_since not_she not_brought not_the not_food have go bar more napkin and refill coke most actually saw server hover over put tip handheld credit card terminal food somewhere okay and decent service somewhere piss poor and terrible',\n",
       " 'another solid bbq place calgary definitely great place go crave something smokey and delicious actually notice place wander walk downtown and impossible miss lovely smokey bbq smell re block however look kind hole wall entrance do_not not_look not_like not_it not_is not_been not_updated not_in not_years and ok just add character entire decor wood country include buffalo head wall and there also downstairs there live music weekend ok food have here couple time now so think comment menu pretty well friend and have order brisket catfish veggie burger mac cheese cesar salad chili and garlic fry have review place base delicious and garliciness fry star review hand down mean seriously vampire beware but everyone else enjoy plenty portion size huge so go hungry or prepare go box grant every time have go have love food so much eat entire meal bet point time wonder only give place star then well not not_everything not_is not_as not_amazing not_as not_those not_garlic not_fries bourbon apple fairly tasteless chili meat very tough and service also just ok however catfish delightful mac and cheese also delicious and brisket quality specialty cocktail also pretty good and beer price pretty decent great place go long lunch dinner drink or even weekend brunch there vegetarian option menu ignore buffalo head wall and believe even few gluten free option well fairly good place go large group just make sure call ahead all all say early great place good time and smokey flavor',\n",
       " 'one day satisfy frozen yogurt crave kiwispoon get invite out eat frozen yogurt piccadilly rare opportunity truly compare two yogurt place here try three flavor chocolate pumpkin and caramel sea salt add top brownie bit chocolate caramel turtle and mochi overall yogurt well kiwispoon frozen yogurt seem less rich piccadilly and flavor not not_as price ounce also marginally high piccadilly there definitely plus piccadilly yogurt top well think mochi taste good brownie piece big and chocolate caramel turtle go great ice cream chocolate caramel turtle standard topping both frozen yogurt and ice cream place also huge map cleveland height cash register feel more authentic neighborhood froyo joint',\n",
       " 'party order fish taco pork belly banh mi corn beef hash benedict and bam ham everything delicious pork belly banh mi tender and juicy and baguette nicely toast crispy fish taco too compliment chip and salsa fresh and super good and crispy service excellent waitress do great job check up and serve really want other food option too but too full next time visit definitely come back',\n",
       " 'have dinner bellagio buffet last night service ok server great but kind forgot towards end visit food cold only good thing there crab leg re suppose cold and taco freshly make food single lamp do_not not_heat not_the not_food not_at not_all let server know food cold and tell manager charge all do come ask problem and say go talk chief have no not_idea not_what not_actually not_happened not_because not_we not_did not_not not_her not_after not_that half buffet close as_well there not not_that not_many not_options say rather go rio buffet high end casino horrible experience',\n",
       " 'flat out fantastic have here twice and croissant bomb not not_wait not_until not_i not_can not_try not_other not_items new breakfast spot ahwahtukee service great well family run business come and support',\n",
       " 'note visit breakfast lunch overall excellent high end buffet but dessert section need little work highlight dip foccacia pizza some chimichurri sauce and best pizza ll have ever have prime rib excellent hate crab leg general but everyone else say great here really fresh cooky try cooky get so lucky and grab some white chocolate macadamia cooky still warm crispy side and chewy and mouth wateringly good mean stuff belief but not not_stop not_eating not_it get breakfast time do try portuguese sausage only breakfast food really worth avoid gelato bar look good but texture more soft serve dairy queen hate so disappointed shrimp pad thai serve ice cold so gross',\n",
       " 'year surgery sac and wish turn back time promise great thing butcher body have leave body alone not not_bad out perfect often talk ruin good body never not_forget not_his not_dirty not_nasty not_slippers not_coming not_the not_operating not_room have run room then',\n",
       " 'best wonton soup ever delicious food and great service have chicken satay roti wonton soup and one fried noodle and shrimp dish definitely back',\n",
       " 'have_never not_experienced not_discrimination not_as not_i not_did not_last not_night not_at not_this_not_place other female have dress and heel place very diverse as far everyone dress dress heel jean flip flop short etc immediately notice large group people particular race come back line and go think nothing assume all list then just get weird notice guy work door walk back and fourth scan line people pull out and let go every time just happen group caucasian people caucasian girl front and behind group black male girl pull line and take door go inside no not_talk not_of not_any not_lists guy list or leave guy leave watch happen quite few more time just give up here and remove line stand front really long time no not_acknowledgement not_the not_guy not_working not_the not_door funny thing do_not not_make not_a not_big not_announcement not_we not_must not_be not_on not_a not_list not_to not_get walk particular group and tell low tone leave know not not_of not_how not_we not_were not_dressed not_or not_looked not_were not_letting not_people not_in not_with not_jeans not_and not_flip not_flops ultimately let bouncer side door there nothing so special go there have picky let night suite safe say never not_step not_foot not_in not_this_not_place not_again',\n",
       " 'have dinner here and food excellent and service not_not_have not_been not_better thanks jose back sure',\n",
       " 'go here saturday dinner have coupon price two people good deal very large space open layout here few time year ago eat mostly crab legs prime rib provide self serve drink area think good do_not not_have not_to not_flag not_down not_a not_staff not_to not_get not_a not_drink not_you not_want not_one have all situation unlimited alcohol wine and beer have bar area one bartender work and bunch tv watch or get update game not not_go not_of not_my not_way but mirage and hungry eat there have another coupon not not_spend not_full not_retail not_price not_eating not_there other buffet strip well same price point',\n",
       " 'take kid here hang out one fine degree sunny saturday february go bridge come aliante casino cant miss nice view waterfall forefront park too bad and playground only nice thing vouch playground nice fence little area have decent amount playground equipment swing slide table and bench soft material use playground equipment build there also sand lot area have dinosaur bone prop day go playground pack kid run each other go down slide there kid actually wait get swing while decide walk check out rest park see duck everywhere especially pond have nice waterfall go unfortunately nice stuff end everywhere path walk green duck crap bring question there some kind spray or force field have playground there no not_ducks not_or not_green not_duck not_crap not_anywhere not_in not_the not_playground im also curious many people actually spread out blanket and have picnic grass crap all over as_well just do review im start get gross think day carefully try not not_to not_step not_on not_any not_crap not_going not_to not_the not_car make mental note make sure mention all green crap saw review and not not_hesitate not_in not_mentioning not_it not_to not_everybody not_i not_know not_that not_is not_either not_making not_plans not_on not_coming not_here not_or not_are not_just not_thinking not_about only thing positive think come_here diet see all green crap probably wont have much appetite and definitely get some exercise try avoid step stuff so yeah im not not_worried not_coming not_back not_this_not_place not_any not_time not_soon not_in not_this not_lifetime think lol maybe duck',\n",
       " 'there reason frequent paul ace big name such home depot or low personalized assistance do big name brand provide yes bit not not_at not_the not_same not_level not_paul not_is not_ace not_hardware not_does not_in need help ready and willing help every aspect project store manager bra personally go out way assist gather all material need current project know store bounce show all option and seem have recommendation each project guy love do know everything store or constant do yourselfer always please help receive and thankful place neighborhood',\n",
       " 'need burger close location work not not_your not_typical not_fast not_food not_joint always choose signature burger opt spicy cajun burger and combo up there beer batter ring and jones strawberry lime soda small location even small patio maybe bar stool cramped balcony look charles street but definitely sit grab seat luckily patio vacant late afternoon top spicy cajun burger avocado jalapeños lettuce jalapeño havarti tomato cajun spice smokey chipotle honey mayo there ample top burger enjoy avocado burger overall not not_too not_spicy not_but not_good not_kick not_the not_sliced not_jalapeños meat grill perfectly taste average but find too small compare bun bun very soft taste good but do_not not_hold not_up not_the not_burger not_and not_all not_the not_toppings not_and not_at not_the not_end not_i not_was not_left not_with not_lots not_of not_bun not_and not_no not_more not_burger beer batter onion ring very thick batter these ring golden brown crunchy very filling drink jones strawberry lime soda yummy not not_sour not_but not_good not_balance overall prompt friendly service quaint little patio average burger but good quick fix satisfy burger crave',\n",
       " 'so good do_not not_make not_it not_to not_ not_stars not_due not_to not_the not_prices not_are not_a not_bit not_high not_the not_amount not_of not_food not_and not_the not_location not_is not_a not_bit decor and atmosphere surprisingly nice outside expect more run down inside staff very nice surprise empty dining room friday evening get vegetable samosa start then order chicken tikka masala lamb rogan josh rice and plain naan only complaint lamb have more tender but everything flavorful and delicious definitely go again give chance',\n",
       " 'employee busy chat each other one employee have head drive thru window talk people entire time there cook come outside and make food do hand make food',\n",
       " 'random hole wall locate park rd shopping center have_never not_heard not_of not_it not_until not_that not_fateful not_st patrick day another beer order make way there and enjoy patio decide food next venture second alcohol only visit excite taste vegetarian option have have grill cheese spicy asparagus and portobello let tell grill cheese amazing add few interesting touch become addict very happy sandwich also have very tasty appetizer goat cheese fritter red wine sauce goat cheese one favorite and fry anything make good love ther service great and accomadate large group few time have have people great staff awesome menu choice ll go back',\n",
       " 'lady beware do_not not_ever not_take not_your not_machine not_to not_ th not_ave sew and vac northern break elna machine repair have spend over store year and have long time customer bill owner son so rude and do nothing resolve broken machine disgust bill owner daughter not not_do not_any not_thing not_to not_help not_me not_the not_repair not_man not_broke not_my not_machine terrible bring nice sewing machine repair and these people break possession and do_not not_want not_to not_do not_a not_damm not_thing not_it big screw not not_buy not_another not_thing not_these not_people not_for not_the not_way not_i not_was not_treated even material too price market another machine but not not_go not_there not_ever not_again machine still need take care and still have not not_resolved not_this not_issue still break and happen repairman service machine wish have_never not_taken not_my not_machine not_to not_ th not_ave not_sew not_and not_vac not_shop cant people own up take ownership responsibility own mistake go kings sew machine much good service and dont break machine',\n",
       " 'th service here very hit or miss sometimes staff personable and attentive other time ask do come_here staff often have gtfoh stamp place permanently forehead and patron just have go otherwise deem guy say continuo visit great hh but there several other option close home same food and drink option choose think today last visit',\n",
       " 'great cocktail and very good food overall first class restaurant',\n",
       " 'receive mailer and think okay let go walk monday afternoon greet bartender cute shirt say bar and baby cute however never not_got not_her not_name look menu ask good say club so order and yes good have beer club white toast serve fry and watch sport center really felt ease there and good music playing go back again',\n",
       " 'company host dinner and award night hotel last night and experience best have imagine work kristine cole fantastic and communication always point walk blow away set up and have compliment food all night come work today flood email impressed everyone presentation staff there help great believe tim charge and have anna and one other gentleman and make and give privacy need back and recommend everyone',\n",
       " 'yes boba tea explosion full force have lee lee international supermarket chandler many time but never not_noticed not_this not_little not_gem not_next not_to not_it not_until not_a not_couple not_years not_ago boba tea house have serve up some best boba tea valley long become big thing have fantastic array flavor and drink choice choose fruit slush snow milk tea pudding mango jelly coffee jelly etc even have snack popcorn chicken fry tofu and fry staff super friendly and price reasonable still laugh friend have no not_idea not_what not_boba not_tea not_is not_or not_are not_too not_afraid not_to not_suck not_one not_of not_those not_chewy not_ball not_things lol case do_not not_know boba tea flavored tea usually milk chewy tapioca ball or fruit jelly add think super delicious today get blueberry milk boba tea and make perfect snack middle day another favorite mine honeydew milk tea',\n",
       " 'yum have kale grit and definitely have again menu choice unique farm fresh and delicious',\n",
       " 'yummy red meat eat midwestern girl and have best steak remember have know long damn good mac and cheese tasty tasty side snicker dessert basically two cookie ice cream sanwiches bit snicker amores sister get super fun too only complaint really loud and waaaaaaay too many annoy veil tot bachelorette party taste but hey palm',\n",
       " 'these burger phenomenal galley boy just melt mouth and pair potato teaser and milkshake heaven earth',\n",
       " 'advertise vegetarian dinner price pay really have nice cut meat way price dinner blue moon beer and glass wine tip server great and experience eating dark pretty interesting experience food meh have okay everything else food outstanding really not probably eat bite dinner entree just taste different ingredient far savory and have use even pasta or something couple dry taste hush puppy have impress little tell server do_not not_enjoy not_it not_if not_he not_have not_offered not_to not_try not_one not_of not_the not_others but do_not not_make not_a not_big not_deal not_like not_i not_said not_before not_he not_was not_really not_nice dessert literally only save grace all all give star server and experience dark just have honest incase others go expect non vegetarian meal ready vegetarian dinner also do_not not_like not_your not_review not_on not_their not_facebook not_page not_they not_block not_you not_commenting not_on not_other not_people not_talking not_crap not not_handle not_the not_truth not_and not_others not_to not_you not_down not_',\n",
       " 'least pink concession stand section unqualified server do_not not_tell not_you not_they not_wo not_not not_take not_cash not_ not_and not_they not_seriously not_wo not_not not_take not_cash then manager not_not_even not_take not_the not_cash not_to not_another not_register line stupid long and worker incapable handle slight issue sit upstairs there next time come knight game',\n",
       " 'wonderful experience sit patio and watch food channel and listen music go menu and have great conversation out country guests patio good place kid patio drown out even loud child have need food great bite spot only wait minute table peak dinner hour server quick greet and get drink table order sashimi wonton taco and sausage cheese dip pretzel wrap pepperoni tuna fresh wonton not not_greasy wasabi sauce enough zing but not not_to not_over not_power not_the not_tuna pretzel and cheese dip nice and hot pretzel sprinkle parmesan cheese and crisp entree big enough serve two people beef brisket beef short rib pork rib caesar salad bacon cheese burger all pack flavor caesar salad come huge garlic crouton daughter cut up and use finish up sausage cheese dip caesar dress fresh corn bread and macaroni cheese side tasty order cheesecake dessert large enough party and leave some there ask server put pretzel fudge sauce and potato chip side instead top do stomach sensitive want ask various sauce side not not_a not_place not_to not not_the not_food not_is not_spicy do dance happy tongue and tummy some people too much but good thing',\n",
       " 'tell so many great thing place but entire experience awful food not not_very not_good way too greasy fry luke warm and tray literally cover grease need napkin and shower service pretty awful too not not_believe not_i not_paid not_ not_for not_a not_small not_meal not_with not_no not_extra not_fixings national cheeseburger day all day too such disappointment and have_never not_gone not_back not_since best thing soda but pretty difficult mess up',\n",
       " 'come_here midnight launch psvr previously tell another employee week prior get there pm get one six extra system not not_pre order and first come first serve end up not not_able not_to not_get not_a not_system come yesterday woman counter tell have write down name and number people want one few day prior and all account previous employee even tell first person have ask organize and tell all employee customer put name down psvr have get system last night not not_only not_did not_this not_illiminate not_my not_chances not_of not_getting not_a not_system not_at not_gamestop but make too late go other department store have stock too far away and line already form each location not not_happy',\n",
       " 'place quite possibly favorite restaurant phoenix favorite chicken scarpariello pizza and sangria wife not not_decide not_between not_four not_dishes daughter love penne ala vodka lasagna or ravioli mario and son work hard please and have_never not_had not_a not_bad not_meal not_here have see bend backwards try and take care obvious jerk plus top off local school invite local pizza place present class make pizza and recycle issue mario come and talk kid adult all other place treat marketing event and bring coupon get idea all good neighborhood gem',\n",
       " 'man love toronto hiding strip mall overlea find dingy look restaurant serve up fantastic cheap kabob warn regardless come_here ll likely wait table place always overrun people re fan perfectly grill spicy meat try place out now have here need limit many time go here month happy take drive and have some kabob do_not not_own not_a not_car borrow one or get zipcar membership totally worth',\n",
       " 'today first time see staff bella smile and great experience not not_currently not_living not_in not_las not_vegas not_i not_plan not_on not_coming not_back not_for not_checkups not_and not_any not_other not_problems not_that not_may not_arise there no not_wait not_time not_whatsoever not_and not_i not_was not_of not_there not_a not_drop not_of not_pain not_or manager severn very accommodate and get business family and friend town',\n",
       " 'have take kid here several time and have_never not_had not_to not_wait not_more not_then not_ not_minutes go right up sign and usually call back right do sign paperwork doctor have always super nice daughter have stitch do and nervous wreck staff try so hard make comfortable and give stuffed toy do very nice wish open bit earlier day otherwise re great',\n",
       " 'normally give restaurant least star as long have good food however group quite disappointed restaurant grant expect lot italian restaurant venetian but also think fine expectation have eat these price first change reservation and say accommodate time clearly not_not_have seat fold table hallway restaurant quite literally food court kiosk sell trinket tourist ambiance restaurant offer mystery not_not_have not_switched not_the not_reservation not_if not_it not_not not_possible not_to not_accommodate not_the not_change not_fault not not_blame not_them know throw table together table and chair look different rest one set up few just front restaurant but not not_off not_to not_the not_side not_ours not_was expect pay lot venetian but expect blow away have prefer din several place walk way one pay spaghetti carbonara very tasty well balance sauce decent amount pancetta however finish whole thing not not_finish not_an not_entree not_at not_olive not_garden not_for not_the not_same not_price also eat few piece bread one friend order chicken kabob know sell italian restaurant one single kabob perhaps piece chicken and vegetable bed rice and cost absolutely outrageous top off tell waiter celebrate birthday say so expect receive dessert customary receive nothing course waiter do_not not_seem not_keen not_on not_giving not_us not_the not_time not_of not_day not_so not_i not_not not_know not_why not_i not_expected not_him not_to not_remember not_a not_birthday',\n",
       " 'not not_that not_familiar not_with not_scottsdale not_so not_i not_am not_just not_guessing not_this not_restaurant not_is not_fairly not_new atmosphere great and lively but but loud have huge wine and drink list food really good highly_recommend ahi tuna appetizer ravioli and skirt steak',\n",
       " 'hand down best bloody mary ever so many thing bm veggie mmm bacon appetizer also have burger fry know fry so good presentation do_not not_disappoint not_ether very nice great seat sit inside love see restaurant hometown seriously get bm rock guy',\n",
       " 'charge twice expect pay guy counter small talk want any additional insurance say no not_ not_and not_just not_initialed not_where not_he not_told not_me not not_noticing not_one not_thing not_i not_initialed not_was not_collision not_waiver not_insurance do_not not_need not_and not_ended not_up not_doubling not_the not_original not_cost do_not not_walk not_me not_the not_additional not_cost not_and not_may not_even not_have not_been not_purposely not_misleading not_by not_distracting not_me not_with not_small not_talk experienced traveler and nothing have happen return car and express surprise doubled cost essentially say well sign and anyway never not_rent not_this not_payless not_again',\n",
       " 'quiet bar and grill great waitress and margarita pizza very good small sign front and almost miss place',\n",
       " 'come out say do job amount time say take amount say cost sell exactly need hopefully keep basement flood and do_not not_try not_to not_sell not_me not_a not_bunch not_of not_things not_i not_did not_not not_need subsequently quote other waterproof guy and willing bet basement stay dry just long thanks nick crew wouldonnells',\n",
       " 'first yelp restaurant soo good felt compel yelp go dinner friend mine really nice space all staff amaze chef even come out table cool and food well think even most discerning top chef judge impress board have tenderloin and mac and cheese as_well tomato two way both excellent choice not not_wait not_to not_go not_back cielo kudos',\n",
       " 'overall food really good have bruschetta and seem have just tad bit too much olive oil have have anymore not_not_have not_eaten not_it husband have chicken parmesan and order salad grilled salmon say tasted good and salon cook perfect also enjoy whatever dressing just wish have side reason pour and also come cup side agree price seem bit high experience have similar feel bravo but service just not not_at not_level not_yet not_ not_our not_experience sever do_not not_know not_anything not_the not_menu not_or not_is not_fried not_in not_their not_fryers not_which not_should not_be not_expected not_at not_ not_a not_plate ask food allergy do however make sure note allergy order appreciate music also do_not not_match not_setting really want relax but music super up beat and almost have rush leave try again few month and ll update review then',\n",
       " 'prc consult tile roof replacement apartment community manage great phoenix area prc thorough and catch number item roofer need correct both job communication great roof major investment and have professional help manage installation money well spend specific service provide initial condition and spec report and roughly job inspection property',\n",
       " 'awful place staff not not_nice very rude never not_seem not_to not_want not_to not_help not_all not_service not_not not_up not_to not_par not_ not_always not_of not_bagels',\n",
       " 'so many great yoga factory excellent teacher very friendly and professional have very patient practice but know push meet goal amaze location very easily accessible very easy city parking nice large space hot room never not_did not_i not_feel not_my not_elbow not_room not_was not_compromised not_and not_the not_room not_can not_get not_packed facility clean neat and love choice decor highly_recommend first timer or someone have frequent practice very friendly and welcome place',\n",
       " 'have no not_idea not_what not_the not_owner not_is not_problem not_is but incredibly rude wife other hand super nice odd mix great space rude owner and coffee average',\n",
       " 'use work food service and manager time recommend try defalco know food well so excite try one favorite spot place really really good lot authentic italian choice and even have grocery section ton legit italian goody have chicken parmigiana sandwich die anytime ex manager come back town leave vega and think miss defalco more anything else valley sure stop and grab favorite grub park bit tricky busy hour and wait time food get bit long so recommend call order ahead time want take look around wait first timer',\n",
       " 'early past january need find furnished rental uptown charlotte market really have no not_idea not_of not_how not_or not_where not_to not_look glad find sell charlotte site recall trade few email and phone call chip and helpful answer all question meet north graham and show unit there available chip and sylvia sell apartment and get paperwork go enjoy stay there last month month more initially sign up come time give notice sylvia give all detail need and these pretty much same initial lease agreement kind enough give ample notice show apartment last day too much inconvenience sylvia help tie up few loose end and even arrange pick up lamp need repair move certainly reach out team sell charlotte again kind regard john',\n",
       " 'really enjoy come_here locate walnut st mean park difficult do_not not_realized not_was not_that not_hot not_pots not_where not_individualized give pot electric hot plate adjust temp also have hot water side case run out very fulfil small area and also have section customize own sauce',\n",
       " 'so have purchase item rc wiley and have spend lot money but never not_again have credit limit purchase fridge and iwent use ny bed room purchase no not_longer not_available not_due not_to not_me not_paying not_it not_off not_too not_soon apparently pay month instead month attempt question mean and there anything couldbe do supervisor emele pretty much tell take fly leap serious spend ashley furniture rc wiley apparently ball and do_not not_need not_me not_to not_buy not_anything good luck have poor customer service rep represent making company look bad',\n",
       " 'let start say love aveda decide try salon and big mistake explain want stylist and even show two photo easy get cut wrong short hair also show photo exactly do_not not_want ask do_not not_like not_the not_photo not_and not_i not_explained not_it not_is not_a not_section not_the not_back not_and not_she not_acted not_she not_understood cut finish spin and literally exactly show do_not not_want mortify and now try grow hideous cut out nothing blend and butch hair and make matter bad not_not_even not_friendly head different salon today try and get fixed',\n",
       " 'place take forever come find out do_not not_have not_my not_oil not_filter not_and not_hour not_and not_a not_half not_me not_waiting not_the not_napa not_parts not_guy not_pulls not_up not_and not_ not_mins not_later not_it not_done hmmm but do_not not_even not_let not_me not_know not_what not_was not_going not_on never not_going not_back',\n",
       " 'cut little dive bar city chill vibe cheap and yummy drink delicious food and family own laura excellent bartender and make feel right home bonus point look cute little house see re area',\n",
       " 'really happy have such unique place phoenix tea tasty and interior very well lay out definitely come back',\n",
       " 'these darn northerner really know make some goooood eggplant obsess seriously eggplant mince pork dish sound so simple but never not_have not_i not_had not_it not_this not_good everything else menu decent dumpling xlb noodle etc but eggplant die go authentic side menu avoid americanized dish',\n",
       " 'have have wonderful experience dr beals treat son see month now and very satisfied care receive here dr beals very helpful never not_feel not_rushed not_to not_get not_of not_his not_office not_and not_he not_is not_patient not_in not_answering not_our not_questions one thing most appreciate have_never not_felt not_his not_solution not_is not_to not_throw not_a not_bunch not_of not_meds not_at not_my not_son conservative and have start low do move up only comfortable son love come appointment and play all minecraft toy office',\n",
       " 'have come loco mill open love come_here especially sunday football have all game great bloodys and awesome breakfast loco local watering hole and always have great time staff',\n",
       " 'order combo come two plate or rice or bread one skewer chicken breast kebob one skewer koobideh one skewer barg kebob grill tomato plate parsley and slice radish bunch basil no meat all very flavourful not not_dry not_and taste very good definitely lot food two people happy waitress very friendly and attentive read another review do_not not_accept not_amex and yeah really do_not but ask pay meal ok',\n",
       " 'hey just want say everytime eat here late nothing but good wing good beer and good time wait staff terrible slow non attentive so eventually get food and beer im busy either catch up friend or pull out cell phone and chat friend weird but there have fun here cheer',\n",
       " 'not not_sure not_why not_some not_posted not_negative not_reviews not_this_not_place not_it not_is not_on not_point girlfriend and have dinner there last night reservation set seat server william awesome fast attentative and really one best server have encounter and dine out lot both order all eat crab leg and fresh hot and delicious do feel sticker price high but have have bucket each equate buck pound only negative do feel address table make some type epoxy resin so outside melt or something there sticky residue table top just play napkin acceptable girlfriend and definitely return pickle bill have fantastic evening last thing note service great even place pack',\n",
       " 'huge fan mission decide try place out see own same owner even very skeptical possibly as great surprise live up others have tell ambiance amaze very much mission candle light up entire place outside patio quite large and there lot seat available staff great and very helpful make suggestion menu favorite item menu scallop and apple caramel upside down cake cook perfection and melt mouth have great wine list and perfect setting enjoy few glass wine happy great date night spot recommend now all friend',\n",
       " 'best thai food ever love mango curry especially and everything have great bubble tea too very nice service very polite',\n",
       " 'have shop there several year and always enjoy saving but year shop hoodies less fortunate thank antigua',\n",
       " 'awesome pool party wish there tad more interactive aspect want hot girl and guy spray champagne all or dance',\n",
       " 'just have terrible experience dr jennifer vonya novak front office change primary care dr novak take week get appointment only do new patient day wait week tell appt get office actually accord cell phone door lock and office hour post see glass door there not not_anyone not_at not_the not_desk not_area leave go home and call no not_answer call again and lady say miss appointment and not not_be not_seen not_today argue door always open unapologetic and offer next day appointment do favor miss appointment keep call dear incapable know appointment time find very condescend needle say not not_be not_going not_to not_dr novak and let friend know office procedure there and unbendable and arrogant rule',\n",
       " 'love pizza but try stay away dietary reason go here last week daughter and mom and pleasantly surprise thin crust new york style pizza good price menu kind simple but way these place nowadays friendly staff and clean simple surroundings']"
      ]
     },
     "execution_count": 344,
     "metadata": {},
     "output_type": "execute_result"
    }
   ],
   "source": [
    "final_text"
   ]
  }
 ],
 "metadata": {
  "kernelspec": {
   "display_name": "Python 3",
   "language": "python",
   "name": "python3"
  },
  "language_info": {
   "codemirror_mode": {
    "name": "ipython",
    "version": 3
   },
   "file_extension": ".py",
   "mimetype": "text/x-python",
   "name": "python",
   "nbconvert_exporter": "python",
   "pygments_lexer": "ipython3",
   "version": "3.7.1"
  }
 },
 "nbformat": 4,
 "nbformat_minor": 2
}
