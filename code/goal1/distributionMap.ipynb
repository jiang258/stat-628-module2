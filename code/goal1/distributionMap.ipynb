{
 "cells": [
  {
   "cell_type": "markdown",
   "metadata": {},
   "source": [
    "This file consists of two parts. First, codes below is for reading in json files, combining two training datasets, \"review_train.json\" and \"business_train.json\", and writing the combined data frame into a csv file."
   ]
  },
  {
   "cell_type": "code",
   "execution_count": 2,
   "metadata": {},
   "outputs": [],
   "source": [
    "import json\n",
    "import pandas as pd\n",
    "import plotly.offline as offline"
   ]
  },
  {
   "cell_type": "code",
   "execution_count": 3,
   "metadata": {},
   "outputs": [],
   "source": [
    "with open('review_train.json', 'r') as r_train:\n",
    "    test1=r_train.readlines()\n",
    "dat_r = {'business_id':[],'stars':[],'text':[],'date':[]}\n",
    "for d in test1:\n",
    "    t_dic = json.loads(d)\n",
    "    dat_r[\"business_id\"].append(t_dic[\"business_id\"])\n",
    "    dat_r[\"stars\"].append(t_dic[\"stars\"])\n",
    "    dat_r[\"text\"].append(t_dic[\"text\"])\n",
    "    dat_r[\"date\"].append(t_dic[\"date\"])\n",
    "df1 = pd.DataFrame(dat_r)"
   ]
  },
  {
   "cell_type": "code",
   "execution_count": null,
   "metadata": {},
   "outputs": [],
   "source": [
    "with open('business_train.json', 'r') as b_train:\n",
    "    test2=b_train.readlines()\n",
    "dat_b = {'business_id':[],'name':[],'city':[],'state':[],'postal_code':[],'latitude':[],'longitude':[],'is_open':[],'attributes':[],'categories':[],'hours':[]}\n",
    "for d in test2:\n",
    "    t_dic = json.loads(d)\n",
    "    for k in dat_b.keys():\n",
    "        dat_b[k].append(t_dic[k])\n",
    "df2 = pd.DataFrame(dat_b)"
   ]
  },
  {
   "cell_type": "code",
   "execution_count": null,
   "metadata": {},
   "outputs": [],
   "source": [
    "df3=pd.merge(df1, df2, on=\"business_id\",how=\"left\")\n",
    "#write in sentence takes long time to run, so I comment it\n",
    "#df3.to_csv('combined.csv',encoding='utf-8',index=False)\n",
    "df3.head(10)"
   ]
  },
  {
   "cell_type": "markdown",
   "metadata": {},
   "source": [
    "Then, we aim at showing how these Yelp businesses distribute on map.We draw the map by using Plotly.<br>A new dataframe is created for the visualization only with columns we're interested in."
   ]
  },
  {
   "cell_type": "code",
   "execution_count": null,
   "metadata": {},
   "outputs": [],
   "source": [
    "ave_star=df1.groupby(['business_id']).agg(['mean'])\n",
    "no_review=df1.groupby(['business_id']).agg(['count'])\n",
    "dfnew=pd.merge(ave_star,no_review,on=\"business_id\").iloc[:,[0,3]]\n",
    "dfnew[\"business_id\"]=dfnew.index.tolist()\n",
    "df_t=df2[[\"business_id\",\"name\",\"latitude\",\"longitude\",\"categories\",\"attributes\"]]\n",
    "dfnew=pd.merge(dfnew, df_t, on=\"business_id\")\n",
    "dfnew[\"text\"]=dfnew[\"business_id\"].astype(str)+\" \"+dfnew[\"name\"]"
   ]
  },
  {
   "cell_type": "code",
   "execution_count": null,
   "metadata": {},
   "outputs": [],
   "source": [
    "offline.init_notebook_mode(connected=True)\n",
    "scl = [ [0,\"rgb(204, 229, 255)\"],[0.25,\"rgb(102,178,255)\"],[0.5,\"rgb(0,128,255)\"],[0.75,\"rgb(0,102,204)\"],[1,\"rgb(0,51,102)\"] ]\n",
    "#from light to dark, from one star to five stars\n",
    "offline.iplot({\n",
    "        \"data\": [ dict(\n",
    "                type = 'scattergeo',\n",
    "                lon = dfnew['longitude'],\n",
    "                lat = dfnew['latitude'],\n",
    "                text = dfnew['text'],\n",
    "                marker = dict(\n",
    "                    size = dfnew.iloc[:,2]**(0.5),\n",
    "                    opacity = 0.7,\n",
    "                    line = dict(\n",
    "                        width=0.5,\n",
    "                        color='rgb(40, 40, 40)'\n",
    "                    ),\n",
    "                    colorscale = scl,\n",
    "                    color = dfnew.iloc[:,1],\n",
    "                    colorbar=dict(\n",
    "                        title=\"Rating Stars\"\n",
    "                    )\n",
    "                ))],\n",
    "        \"layout\": dict(\n",
    "                title = 'Yelp Reviews Distribution',\n",
    "                geo = dict(\n",
    "                    scope = 'north america',\n",
    "                    lonaxis = dict( range= [ -125.0, -60.0 ] ),\n",
    "                    lataxis = dict( range= [ 23.0, 60.0 ] ),\n",
    "                    showland = True,\n",
    "                    landcolor = 'rgb(243, 243, 243)',\n",
    "                    countrycolor = 'rgb(204, 204, 204)',\n",
    "                ),\n",
    "            )\n",
    "        },auto_open=True)\n",
    "\n"
   ]
  }
 ],
 "metadata": {
  "kernelspec": {
   "display_name": "Python 2",
   "language": "python",
   "name": "python2"
  },
  "language_info": {
   "codemirror_mode": {
    "name": "ipython",
    "version": 2
   },
   "file_extension": ".py",
   "mimetype": "text/x-python",
   "name": "python",
   "nbconvert_exporter": "python",
   "pygments_lexer": "ipython2",
   "version": "2.7.15"
  }
 },
 "nbformat": 4,
 "nbformat_minor": 2
}
