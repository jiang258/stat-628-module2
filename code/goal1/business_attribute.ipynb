{
 "cells": [
  {
   "cell_type": "code",
   "execution_count": 9,
   "metadata": {},
   "outputs": [],
   "source": [
    "import json\n",
    "import pandas as pd\n",
    "import numpy as np\n",
    "import plotly as py"
   ]
  },
  {
   "cell_type": "code",
   "execution_count": 10,
   "metadata": {},
   "outputs": [],
   "source": [
    "df2 = pd.read_json('business_train.json',orient = 'records',lines = True)"
   ]
  },
  {
   "cell_type": "code",
   "execution_count": 11,
   "metadata": {},
   "outputs": [],
   "source": [
    "ind=[]\n",
    "cate=df2[\"categories\"].tolist()\n",
    "for i in range(len(cate)):\n",
    "    if cate[i]==None:\n",
    "        continue\n",
    "    if (\"Chinese\" in cate[i])|(\"Thai\" in cate[i])|(\"Japanese\" in cate[i])|(\"Asian\" in cate[i])|(\"Korean\" in cate[i]):\n",
    "        continue\n",
    "    if (\"Brunch\" in cate[i])|(\"Breakfast\" in cate[i]):\n",
    "        ind.append(i)"
   ]
  },
  {
   "cell_type": "code",
   "execution_count": 12,
   "metadata": {},
   "outputs": [],
   "source": [
    "dfbrunch=df2.iloc[ind]"
   ]
  },
  {
   "cell_type": "code",
   "execution_count": 18,
   "metadata": {},
   "outputs": [],
   "source": [
    "dfbrunch.index = list(range(len(dfbrunch)))"
   ]
  },
  {
   "cell_type": "code",
   "execution_count": 66,
   "metadata": {},
   "outputs": [],
   "source": [
    "stars = pd.read_csv('brunch.csv')\n",
    "stars = stars[['business_id','stars']]"
   ]
  },
  {
   "cell_type": "code",
   "execution_count": 79,
   "metadata": {},
   "outputs": [],
   "source": [
    "train = stars.groupby(['business_id'])['stars'].agg('mean')"
   ]
  },
  {
   "cell_type": "code",
   "execution_count": 69,
   "metadata": {},
   "outputs": [],
   "source": [
    "train_new = train.reset_index()[['business_id']]\n",
    "train_new = train_new.merge(train.reset_index(), suffixes=[\"\", \"\"], how='left', on=['business_id'])"
   ]
  },
  {
   "cell_type": "code",
   "execution_count": 88,
   "metadata": {},
   "outputs": [],
   "source": [
    "train_new = train_new.merge(dfbrunch,how = 'left', on = ['business_id'])"
   ]
  },
  {
   "cell_type": "code",
   "execution_count": 95,
   "metadata": {},
   "outputs": [],
   "source": [
    "train1 = train_new[['business_id','stars','attributes']]"
   ]
  },
  {
   "cell_type": "code",
   "execution_count": 110,
   "metadata": {},
   "outputs": [
    {
     "data": {
      "text/html": [
       "<div>\n",
       "<style scoped>\n",
       "    .dataframe tbody tr th:only-of-type {\n",
       "        vertical-align: middle;\n",
       "    }\n",
       "\n",
       "    .dataframe tbody tr th {\n",
       "        vertical-align: top;\n",
       "    }\n",
       "\n",
       "    .dataframe thead th {\n",
       "        text-align: right;\n",
       "    }\n",
       "</style>\n",
       "<table border=\"1\" class=\"dataframe\">\n",
       "  <thead>\n",
       "    <tr style=\"text-align: right;\">\n",
       "      <th></th>\n",
       "      <th>business_id</th>\n",
       "      <th>stars</th>\n",
       "      <th>attributes</th>\n",
       "    </tr>\n",
       "  </thead>\n",
       "  <tbody>\n",
       "    <tr>\n",
       "      <th>0</th>\n",
       "      <td>133.0</td>\n",
       "      <td>2.944444</td>\n",
       "      <td>{'BusinessParking': '{'garage': False, 'street...</td>\n",
       "    </tr>\n",
       "    <tr>\n",
       "      <th>1</th>\n",
       "      <td>147.0</td>\n",
       "      <td>4.163121</td>\n",
       "      <td>{'OutdoorSeating': 'False', 'RestaurantsPriceR...</td>\n",
       "    </tr>\n",
       "    <tr>\n",
       "      <th>2</th>\n",
       "      <td>218.0</td>\n",
       "      <td>4.578512</td>\n",
       "      <td>{'BikeParking': 'True', 'HasTV': 'False', 'Res...</td>\n",
       "    </tr>\n",
       "    <tr>\n",
       "      <th>3</th>\n",
       "      <td>225.0</td>\n",
       "      <td>3.750000</td>\n",
       "      <td>{'RestaurantsTakeOut': 'True', 'RestaurantsRes...</td>\n",
       "    </tr>\n",
       "    <tr>\n",
       "      <th>4</th>\n",
       "      <td>469.0</td>\n",
       "      <td>3.620690</td>\n",
       "      <td>{'BikeParking': 'True', 'RestaurantsDelivery':...</td>\n",
       "    </tr>\n",
       "  </tbody>\n",
       "</table>\n",
       "</div>"
      ],
      "text/plain": [
       "   business_id     stars                                         attributes\n",
       "0        133.0  2.944444  {'BusinessParking': '{'garage': False, 'street...\n",
       "1        147.0  4.163121  {'OutdoorSeating': 'False', 'RestaurantsPriceR...\n",
       "2        218.0  4.578512  {'BikeParking': 'True', 'HasTV': 'False', 'Res...\n",
       "3        225.0  3.750000  {'RestaurantsTakeOut': 'True', 'RestaurantsRes...\n",
       "4        469.0  3.620690  {'BikeParking': 'True', 'RestaurantsDelivery':..."
      ]
     },
     "execution_count": 110,
     "metadata": {},
     "output_type": "execute_result"
    }
   ],
   "source": [
    "train1.head()"
   ]
  },
  {
   "cell_type": "code",
   "execution_count": 371,
   "metadata": {},
   "outputs": [],
   "source": [
    "attribute = ['AcceptsInsurance', 'Alcohol', 'Ambience', 'BYOB','BYOBCorkage', 'BestNights', 'BikeParking','BusinessAcceptsBitcoin',\n",
    "                 'BusinessAcceptsCreditCards','BusinessParking', 'ByAppointmentOnly', 'Caters', 'CoatCheck','Corkage', 'DietaryRestrictions', \n",
    "                'DogsAllowed', 'DriveThru', 'GoodForDancing', 'GoodForKids', 'GoodForMeal', 'HappyHour','HasTV', 'Music', 'NoiseLevel', \n",
    "                'Open24Hours', 'OutdoorSeating', 'RestaurantsAttire','RestaurantsCounterService', 'RestaurantsDelivery', 'RestaurantsGoodForGroups',\n",
    "                'RestaurantsPriceRange2', 'RestaurantsReservations', 'RestaurantsTableService', 'RestaurantsTakeOut', 'Smoking',\n",
    "                'WheelchairAccessible', 'WiFi']"
   ]
  },
  {
   "cell_type": "code",
   "execution_count": 372,
   "metadata": {},
   "outputs": [],
   "source": [
    "features = []\n",
    "for i in range(len(train1)):\n",
    "    if train1['attributes'][i] != None:\n",
    "        item = []\n",
    "        item.append(train1['business_id'][i])\n",
    "        item.append(train1['stars'][i])\n",
    "        for j in range(len(attribute)):\n",
    "            if attribute[j] not in train1['attributes'][i].keys():\n",
    "                item.append('None')\n",
    "            else:\n",
    "                key = attribute[j]\n",
    "                item.append(str(train1['attributes'][i][key]))\n",
    "        features.append(item)"
   ]
  },
  {
   "cell_type": "code",
   "execution_count": 373,
   "metadata": {},
   "outputs": [],
   "source": [
    "feature = pd.DataFrame(features,columns = ['business_id','stars','AcceptsInsurance', 'Alcohol', 'Ambience', 'BYOB','BYOBCorkage', 'BestNights', 'BikeParking','BusinessAcceptsBitcoin',\n",
    "                 'BusinessAcceptsCreditCards','BusinessParking', 'ByAppointmentOnly', 'Caters', 'CoatCheck','Corkage', 'DietaryRestrictions', \n",
    "                'DogsAllowed', 'DriveThru', 'GoodForDancing', 'GoodForKids', 'GoodForMeal', 'HappyHour','HasTV', 'Music', 'NoiseLevel', \n",
    "                'Open24Hours', 'OutdoorSeating', 'RestaurantsAttire','RestaurantsCounterService', 'RestaurantsDelivery', 'RestaurantsGoodForGroups',\n",
    "                'RestaurantsPriceRange2', 'RestaurantsReservations', 'RestaurantsTableService', 'RestaurantsTakeOut', 'Smoking',\n",
    "                'WheelchairAccessible', 'WiFi'])"
   ]
  },
  {
   "cell_type": "code",
   "execution_count": 374,
   "metadata": {},
   "outputs": [
    {
     "data": {
      "text/html": [
       "<div>\n",
       "<style scoped>\n",
       "    .dataframe tbody tr th:only-of-type {\n",
       "        vertical-align: middle;\n",
       "    }\n",
       "\n",
       "    .dataframe tbody tr th {\n",
       "        vertical-align: top;\n",
       "    }\n",
       "\n",
       "    .dataframe thead th {\n",
       "        text-align: right;\n",
       "    }\n",
       "</style>\n",
       "<table border=\"1\" class=\"dataframe\">\n",
       "  <thead>\n",
       "    <tr style=\"text-align: right;\">\n",
       "      <th></th>\n",
       "      <th>business_id</th>\n",
       "      <th>stars</th>\n",
       "      <th>AcceptsInsurance</th>\n",
       "      <th>Alcohol</th>\n",
       "      <th>Ambience</th>\n",
       "      <th>BYOB</th>\n",
       "      <th>BYOBCorkage</th>\n",
       "      <th>BestNights</th>\n",
       "      <th>BikeParking</th>\n",
       "      <th>BusinessAcceptsBitcoin</th>\n",
       "      <th>...</th>\n",
       "      <th>RestaurantsCounterService</th>\n",
       "      <th>RestaurantsDelivery</th>\n",
       "      <th>RestaurantsGoodForGroups</th>\n",
       "      <th>RestaurantsPriceRange2</th>\n",
       "      <th>RestaurantsReservations</th>\n",
       "      <th>RestaurantsTableService</th>\n",
       "      <th>RestaurantsTakeOut</th>\n",
       "      <th>Smoking</th>\n",
       "      <th>WheelchairAccessible</th>\n",
       "      <th>WiFi</th>\n",
       "    </tr>\n",
       "  </thead>\n",
       "  <tbody>\n",
       "    <tr>\n",
       "      <th>0</th>\n",
       "      <td>133.0</td>\n",
       "      <td>2.944444</td>\n",
       "      <td>None</td>\n",
       "      <td>u'none'</td>\n",
       "      <td>{'romantic': False, 'intimate': False, 'classy...</td>\n",
       "      <td>None</td>\n",
       "      <td>None</td>\n",
       "      <td>None</td>\n",
       "      <td>False</td>\n",
       "      <td>None</td>\n",
       "      <td>...</td>\n",
       "      <td>None</td>\n",
       "      <td>False</td>\n",
       "      <td>True</td>\n",
       "      <td>3</td>\n",
       "      <td>True</td>\n",
       "      <td>None</td>\n",
       "      <td>True</td>\n",
       "      <td>None</td>\n",
       "      <td>None</td>\n",
       "      <td>u'free'</td>\n",
       "    </tr>\n",
       "    <tr>\n",
       "      <th>1</th>\n",
       "      <td>147.0</td>\n",
       "      <td>4.163121</td>\n",
       "      <td>None</td>\n",
       "      <td>u'full_bar'</td>\n",
       "      <td>{'romantic': False, 'intimate': False, 'touris...</td>\n",
       "      <td>None</td>\n",
       "      <td>None</td>\n",
       "      <td>{'monday': False, 'tuesday': False, 'friday': ...</td>\n",
       "      <td>True</td>\n",
       "      <td>None</td>\n",
       "      <td>...</td>\n",
       "      <td>None</td>\n",
       "      <td>False</td>\n",
       "      <td>True</td>\n",
       "      <td>2</td>\n",
       "      <td>False</td>\n",
       "      <td>True</td>\n",
       "      <td>False</td>\n",
       "      <td>u'no'</td>\n",
       "      <td>None</td>\n",
       "      <td>u'free'</td>\n",
       "    </tr>\n",
       "    <tr>\n",
       "      <th>2</th>\n",
       "      <td>218.0</td>\n",
       "      <td>4.578512</td>\n",
       "      <td>None</td>\n",
       "      <td>'none'</td>\n",
       "      <td>{'romantic': False, 'intimate': False, 'classy...</td>\n",
       "      <td>None</td>\n",
       "      <td>None</td>\n",
       "      <td>None</td>\n",
       "      <td>True</td>\n",
       "      <td>False</td>\n",
       "      <td>...</td>\n",
       "      <td>None</td>\n",
       "      <td>False</td>\n",
       "      <td>True</td>\n",
       "      <td>1</td>\n",
       "      <td>True</td>\n",
       "      <td>False</td>\n",
       "      <td>True</td>\n",
       "      <td>None</td>\n",
       "      <td>True</td>\n",
       "      <td>u'free'</td>\n",
       "    </tr>\n",
       "    <tr>\n",
       "      <th>3</th>\n",
       "      <td>225.0</td>\n",
       "      <td>3.750000</td>\n",
       "      <td>None</td>\n",
       "      <td>u'none'</td>\n",
       "      <td>None</td>\n",
       "      <td>None</td>\n",
       "      <td>None</td>\n",
       "      <td>None</td>\n",
       "      <td>True</td>\n",
       "      <td>None</td>\n",
       "      <td>...</td>\n",
       "      <td>None</td>\n",
       "      <td>True</td>\n",
       "      <td>None</td>\n",
       "      <td>2</td>\n",
       "      <td>False</td>\n",
       "      <td>None</td>\n",
       "      <td>True</td>\n",
       "      <td>None</td>\n",
       "      <td>True</td>\n",
       "      <td>u'free'</td>\n",
       "    </tr>\n",
       "    <tr>\n",
       "      <th>4</th>\n",
       "      <td>469.0</td>\n",
       "      <td>3.620690</td>\n",
       "      <td>None</td>\n",
       "      <td>u'none'</td>\n",
       "      <td>{'romantic': False, 'intimate': False, 'classy...</td>\n",
       "      <td>None</td>\n",
       "      <td>None</td>\n",
       "      <td>None</td>\n",
       "      <td>True</td>\n",
       "      <td>None</td>\n",
       "      <td>...</td>\n",
       "      <td>None</td>\n",
       "      <td>True</td>\n",
       "      <td>True</td>\n",
       "      <td>1</td>\n",
       "      <td>False</td>\n",
       "      <td>False</td>\n",
       "      <td>True</td>\n",
       "      <td>None</td>\n",
       "      <td>None</td>\n",
       "      <td>u'free'</td>\n",
       "    </tr>\n",
       "  </tbody>\n",
       "</table>\n",
       "<p>5 rows × 39 columns</p>\n",
       "</div>"
      ],
      "text/plain": [
       "   business_id     stars AcceptsInsurance      Alcohol  \\\n",
       "0        133.0  2.944444             None      u'none'   \n",
       "1        147.0  4.163121             None  u'full_bar'   \n",
       "2        218.0  4.578512             None       'none'   \n",
       "3        225.0  3.750000             None      u'none'   \n",
       "4        469.0  3.620690             None      u'none'   \n",
       "\n",
       "                                            Ambience  BYOB BYOBCorkage  \\\n",
       "0  {'romantic': False, 'intimate': False, 'classy...  None        None   \n",
       "1  {'romantic': False, 'intimate': False, 'touris...  None        None   \n",
       "2  {'romantic': False, 'intimate': False, 'classy...  None        None   \n",
       "3                                               None  None        None   \n",
       "4  {'romantic': False, 'intimate': False, 'classy...  None        None   \n",
       "\n",
       "                                          BestNights BikeParking  \\\n",
       "0                                               None       False   \n",
       "1  {'monday': False, 'tuesday': False, 'friday': ...        True   \n",
       "2                                               None        True   \n",
       "3                                               None        True   \n",
       "4                                               None        True   \n",
       "\n",
       "  BusinessAcceptsBitcoin   ...    RestaurantsCounterService  \\\n",
       "0                   None   ...                         None   \n",
       "1                   None   ...                         None   \n",
       "2                  False   ...                         None   \n",
       "3                   None   ...                         None   \n",
       "4                   None   ...                         None   \n",
       "\n",
       "  RestaurantsDelivery RestaurantsGoodForGroups RestaurantsPriceRange2  \\\n",
       "0               False                     True                      3   \n",
       "1               False                     True                      2   \n",
       "2               False                     True                      1   \n",
       "3                True                     None                      2   \n",
       "4                True                     True                      1   \n",
       "\n",
       "  RestaurantsReservations RestaurantsTableService RestaurantsTakeOut Smoking  \\\n",
       "0                    True                    None               True    None   \n",
       "1                   False                    True              False   u'no'   \n",
       "2                    True                   False               True    None   \n",
       "3                   False                    None               True    None   \n",
       "4                   False                   False               True    None   \n",
       "\n",
       "  WheelchairAccessible     WiFi  \n",
       "0                 None  u'free'  \n",
       "1                 None  u'free'  \n",
       "2                 True  u'free'  \n",
       "3                 True  u'free'  \n",
       "4                 None  u'free'  \n",
       "\n",
       "[5 rows x 39 columns]"
      ]
     },
     "execution_count": 374,
     "metadata": {},
     "output_type": "execute_result"
    }
   ],
   "source": [
    "feature.head()"
   ]
  },
  {
   "cell_type": "code",
   "execution_count": 313,
   "metadata": {},
   "outputs": [],
   "source": [
    "import warnings\n",
    "warnings.filterwarnings('ignore')\n",
    "for i in range(len(feature)):\n",
    "    if feature.Alcohol[i] == \"u'none'\" or feature.Alcohol[i] == \"'none'\" or feature.Alcohol[i] == \"None\":\n",
    "        feature.Alcohol[i] = 0\n",
    "    if feature.Alcohol[i] == \"u'full_bar'\" or feature.Alcohol[i] == \"'full_bar'\":\n",
    "        feature.Alcohol[i] = 1\n",
    "    if feature.Alcohol[i] == \"u'beer_and_wine'\" or feature.Alcohol[i] == \"'beer_and_wine'\":\n",
    "        feature.Alcohol[i] = 2"
   ]
  },
  {
   "cell_type": "code",
   "execution_count": 321,
   "metadata": {},
   "outputs": [],
   "source": [
    "for i in range(len(feature)):\n",
    "    if feature.BikeParking[i] == 'False':\n",
    "        feature.BikeParking[i] = -1\n",
    "    elif feature.BikeParking[i] == 'None':\n",
    "        feature.BikeParking[i] = 0\n",
    "    else:\n",
    "        feature.BikeParking[i] = 1"
   ]
  },
  {
   "cell_type": "code",
   "execution_count": 357,
   "metadata": {},
   "outputs": [],
   "source": [
    "for i in range(len(feature)):\n",
    "    if 'True' in feature.BusinessParking[i]:\n",
    "        feature.BusinessParking[i] = 'True'\n",
    "    else:\n",
    "        feature.BusinessParking[i] = 'False' "
   ]
  },
  {
   "cell_type": "code",
   "execution_count": 358,
   "metadata": {},
   "outputs": [],
   "source": [
    "for i in range(len(feature)):\n",
    "    if feature.NoiseLevel[i] == \"u'average'\" or feature.NoiseLevel[i] == \"'average'\":\n",
    "        feature.NoiseLevel[i] = 'average'\n",
    "    if feature.NoiseLevel[i] == \"u'quiet'\" or feature.NoiseLevel[i] == \"'quiet'\":\n",
    "        feature.NoiseLevel[i] = 'quiet'\n",
    "    if feature.NoiseLevel[i] == \"u'loud'\" or feature.NoiseLevel[i] == \"'loud'\":\n",
    "        feature.NoiseLevel[i] = 'loud'\n",
    "    if feature.NoiseLevel[i] == \"u'very_loud'\" or feature.NoiseLevel[i] == \"'very_loud'\":\n",
    "        feature.NoiseLevel[i] = 'very_loud'        "
   ]
  },
  {
   "cell_type": "code",
   "execution_count": 265,
   "metadata": {},
   "outputs": [],
   "source": [
    "for i in range(len(feature)):\n",
    "    if feature.WiFi[i] == \"u'free'\" or feature.WiFi[i] == \"'free'\":\n",
    "        feature.WiFi[i] = 'free'\n",
    "    if feature.WiFi[i] == \"u'no'\" or feature.WiFi[i] == \"'no'\":\n",
    "        feature.WiFi[i] = 'no'\n",
    "    if feature.WiFi[i] == \"u'paid'\" or feature.WiFi[i] == \"'paid'\":\n",
    "        feature.WiFi[i] = 'paid'"
   ]
  },
  {
   "cell_type": "code",
   "execution_count": 362,
   "metadata": {},
   "outputs": [],
   "source": [
    "for i in range(len(feature)):\n",
    "    feature.stars[i] = int(round(feature.stars[i]))"
   ]
  },
  {
   "cell_type": "code",
   "execution_count": 363,
   "metadata": {},
   "outputs": [],
   "source": [
    "feature = feature[['stars','Alcohol','BikeParking','BusinessAcceptsCreditCards','BusinessParking','DogsAllowed','GoodForKids',\n",
    "                         'HasTV','NoiseLevel','OutdoorSeating','RestaurantsDelivery','RestaurantsGoodForGroups','RestaurantsPriceRange2',\n",
    "                         'RestaurantsReservations','RestaurantsTableService','RestaurantsTakeOut','WiFi']]"
   ]
  },
  {
   "cell_type": "code",
   "execution_count": 364,
   "metadata": {},
   "outputs": [
    {
     "data": {
      "text/html": [
       "<div>\n",
       "<style scoped>\n",
       "    .dataframe tbody tr th:only-of-type {\n",
       "        vertical-align: middle;\n",
       "    }\n",
       "\n",
       "    .dataframe tbody tr th {\n",
       "        vertical-align: top;\n",
       "    }\n",
       "\n",
       "    .dataframe thead th {\n",
       "        text-align: right;\n",
       "    }\n",
       "</style>\n",
       "<table border=\"1\" class=\"dataframe\">\n",
       "  <thead>\n",
       "    <tr style=\"text-align: right;\">\n",
       "      <th></th>\n",
       "      <th>stars</th>\n",
       "      <th>Alcohol</th>\n",
       "      <th>BikeParking</th>\n",
       "      <th>BusinessAcceptsCreditCards</th>\n",
       "      <th>BusinessParking</th>\n",
       "      <th>DogsAllowed</th>\n",
       "      <th>GoodForKids</th>\n",
       "      <th>HasTV</th>\n",
       "      <th>NoiseLevel</th>\n",
       "      <th>OutdoorSeating</th>\n",
       "      <th>RestaurantsDelivery</th>\n",
       "      <th>RestaurantsGoodForGroups</th>\n",
       "      <th>RestaurantsPriceRange2</th>\n",
       "      <th>RestaurantsReservations</th>\n",
       "      <th>RestaurantsTableService</th>\n",
       "      <th>RestaurantsTakeOut</th>\n",
       "      <th>WiFi</th>\n",
       "    </tr>\n",
       "  </thead>\n",
       "  <tbody>\n",
       "    <tr>\n",
       "      <th>0</th>\n",
       "      <td>2</td>\n",
       "      <td>0</td>\n",
       "      <td>0</td>\n",
       "      <td>1</td>\n",
       "      <td>1</td>\n",
       "      <td>1</td>\n",
       "      <td>2</td>\n",
       "      <td>0</td>\n",
       "      <td>3</td>\n",
       "      <td>0</td>\n",
       "      <td>0</td>\n",
       "      <td>2</td>\n",
       "      <td>2</td>\n",
       "      <td>2</td>\n",
       "      <td>1</td>\n",
       "      <td>2</td>\n",
       "      <td>4</td>\n",
       "    </tr>\n",
       "    <tr>\n",
       "      <th>1</th>\n",
       "      <td>3</td>\n",
       "      <td>1</td>\n",
       "      <td>2</td>\n",
       "      <td>2</td>\n",
       "      <td>1</td>\n",
       "      <td>1</td>\n",
       "      <td>0</td>\n",
       "      <td>0</td>\n",
       "      <td>2</td>\n",
       "      <td>0</td>\n",
       "      <td>0</td>\n",
       "      <td>2</td>\n",
       "      <td>1</td>\n",
       "      <td>0</td>\n",
       "      <td>2</td>\n",
       "      <td>0</td>\n",
       "      <td>4</td>\n",
       "    </tr>\n",
       "    <tr>\n",
       "      <th>2</th>\n",
       "      <td>4</td>\n",
       "      <td>0</td>\n",
       "      <td>2</td>\n",
       "      <td>2</td>\n",
       "      <td>1</td>\n",
       "      <td>0</td>\n",
       "      <td>2</td>\n",
       "      <td>0</td>\n",
       "      <td>1</td>\n",
       "      <td>2</td>\n",
       "      <td>0</td>\n",
       "      <td>2</td>\n",
       "      <td>0</td>\n",
       "      <td>2</td>\n",
       "      <td>0</td>\n",
       "      <td>2</td>\n",
       "      <td>4</td>\n",
       "    </tr>\n",
       "    <tr>\n",
       "      <th>3</th>\n",
       "      <td>3</td>\n",
       "      <td>0</td>\n",
       "      <td>2</td>\n",
       "      <td>1</td>\n",
       "      <td>0</td>\n",
       "      <td>2</td>\n",
       "      <td>1</td>\n",
       "      <td>0</td>\n",
       "      <td>0</td>\n",
       "      <td>2</td>\n",
       "      <td>2</td>\n",
       "      <td>1</td>\n",
       "      <td>1</td>\n",
       "      <td>0</td>\n",
       "      <td>1</td>\n",
       "      <td>2</td>\n",
       "      <td>4</td>\n",
       "    </tr>\n",
       "    <tr>\n",
       "      <th>4</th>\n",
       "      <td>3</td>\n",
       "      <td>0</td>\n",
       "      <td>2</td>\n",
       "      <td>2</td>\n",
       "      <td>1</td>\n",
       "      <td>1</td>\n",
       "      <td>2</td>\n",
       "      <td>0</td>\n",
       "      <td>1</td>\n",
       "      <td>0</td>\n",
       "      <td>2</td>\n",
       "      <td>2</td>\n",
       "      <td>0</td>\n",
       "      <td>0</td>\n",
       "      <td>0</td>\n",
       "      <td>2</td>\n",
       "      <td>4</td>\n",
       "    </tr>\n",
       "  </tbody>\n",
       "</table>\n",
       "</div>"
      ],
      "text/plain": [
       "   stars  Alcohol  BikeParking  BusinessAcceptsCreditCards  BusinessParking  \\\n",
       "0      2        0            0                           1                1   \n",
       "1      3        1            2                           2                1   \n",
       "2      4        0            2                           2                1   \n",
       "3      3        0            2                           1                0   \n",
       "4      3        0            2                           2                1   \n",
       "\n",
       "   DogsAllowed  GoodForKids  HasTV  NoiseLevel  OutdoorSeating  \\\n",
       "0            1            2      0           3               0   \n",
       "1            1            0      0           2               0   \n",
       "2            0            2      0           1               2   \n",
       "3            2            1      0           0               2   \n",
       "4            1            2      0           1               0   \n",
       "\n",
       "   RestaurantsDelivery  RestaurantsGoodForGroups  RestaurantsPriceRange2  \\\n",
       "0                    0                         2                       2   \n",
       "1                    0                         2                       1   \n",
       "2                    0                         2                       0   \n",
       "3                    2                         1                       1   \n",
       "4                    2                         2                       0   \n",
       "\n",
       "   RestaurantsReservations  RestaurantsTableService  RestaurantsTakeOut  WiFi  \n",
       "0                        2                        1                   2     4  \n",
       "1                        0                        2                   0     4  \n",
       "2                        2                        0                   2     4  \n",
       "3                        0                        1                   2     4  \n",
       "4                        0                        0                   2     4  "
      ]
     },
     "execution_count": 364,
     "metadata": {},
     "output_type": "execute_result"
    }
   ],
   "source": [
    "from sklearn.preprocessing import LabelEncoder\n",
    "labelencoder = LabelEncoder()\n",
    "for col in feature.columns:\n",
    "    feature[col] = labelencoder.fit_transform(feature[col])\n",
    "feature.head()"
   ]
  },
  {
   "cell_type": "code",
   "execution_count": 404,
   "metadata": {},
   "outputs": [],
   "source": [
    "data = pd.read_csv('attributes.csv')"
   ]
  },
  {
   "cell_type": "code",
   "execution_count": 443,
   "metadata": {},
   "outputs": [
    {
     "data": {
      "text/plain": [
       " 2    2376\n",
       "-1    1191\n",
       " 0     682\n",
       " 1      23\n",
       "Name: WiFi, dtype: int64"
      ]
     },
     "execution_count": 443,
     "metadata": {},
     "output_type": "execute_result"
    }
   ],
   "source": [
    "data.WiFi.value_counts()"
   ]
  },
  {
   "cell_type": "code",
   "execution_count": 441,
   "metadata": {},
   "outputs": [
    {
     "data": {
      "text/plain": [
       "u'free'    1601\n",
       "'free'      775\n",
       "u'no'       749\n",
       "None        682\n",
       "'no'        442\n",
       "u'paid'      15\n",
       "'paid'        8\n",
       "Name: WiFi, dtype: int64"
      ]
     },
     "execution_count": 441,
     "metadata": {},
     "output_type": "execute_result"
    }
   ],
   "source": [
    "feature.WiFi.value_counts()"
   ]
  },
  {
   "cell_type": "code",
   "execution_count": 405,
   "metadata": {},
   "outputs": [],
   "source": [
    "#Alcohol 0:none 1:beer_and_wine 2:full_bar\n",
    "import warnings\n",
    "warnings.filterwarnings('ignore')\n",
    "for i in range(len(data)):\n",
    "    if data.Alcohol[i] == 1:\n",
    "        data.Alcohol[i] = 2\n",
    "    elif data.Alcohol[i] == 2:\n",
    "        data.Alcohol[i] = 1\n",
    "    else:\n",
    "        data.Alcohol[i] = 0"
   ]
  },
  {
   "cell_type": "code",
   "execution_count": 406,
   "metadata": {},
   "outputs": [],
   "source": [
    "#BikeParking -1:False 0:none 1:True\n",
    "for i in range(len(data)):\n",
    "    if data.BikeParking[i] == 1:\n",
    "        data.BikeParking[i] = 0\n",
    "    elif data.BikeParking[i] == 0:\n",
    "        data.BikeParking[i] = -1\n",
    "    else:\n",
    "        data.BikeParking[i] = 1"
   ]
  },
  {
   "cell_type": "code",
   "execution_count": 407,
   "metadata": {},
   "outputs": [],
   "source": [
    "#BusinessAcceptsCreditCards -1:False 0:none 1:True\n",
    "for i in range(len(data)):\n",
    "    if data.BusinessAcceptsCreditCards[i] == 1:\n",
    "        data.BusinessAcceptsCreditCards[i] = 0\n",
    "    elif data.BusinessAcceptsCreditCards[i] == 0:\n",
    "        data.BusinessAcceptsCreditCards[i] = -1\n",
    "    else:\n",
    "        data.BusinessAcceptsCreditCards[i] = 1"
   ]
  },
  {
   "cell_type": "code",
   "execution_count": 408,
   "metadata": {},
   "outputs": [],
   "source": [
    "#DogsAllowed -1:False 0:none 1:True\n",
    "for i in range(len(data)):\n",
    "    if data.DogsAllowed[i] == 1:\n",
    "        data.DogsAllowed[i] = 0\n",
    "    elif data.DogsAllowed[i] == 0:\n",
    "        data.DogsAllowed[i] = -1\n",
    "    else:\n",
    "        data.DogsAllowed[i] = 1"
   ]
  },
  {
   "cell_type": "code",
   "execution_count": 409,
   "metadata": {},
   "outputs": [],
   "source": [
    "#GoodForKids -1:False 0:none 1:True\n",
    "for i in range(len(data)):\n",
    "    if data.GoodForKids[i] == 1:\n",
    "        data.GoodForKids[i] = 0\n",
    "    elif data.GoodForKids[i] == 0:\n",
    "        data.GoodForKids[i] = -1\n",
    "    else:\n",
    "        data.GoodForKids[i] = 1"
   ]
  },
  {
   "cell_type": "code",
   "execution_count": 410,
   "metadata": {},
   "outputs": [],
   "source": [
    "#HasTV -1:False 0:none 1:True\n",
    "for i in range(len(data)):\n",
    "    if data.HasTV[i] == 1:\n",
    "        data.HasTV[i] = 0\n",
    "    elif data.HasTV[i] == 0:\n",
    "        data.HasTV[i] = -1\n",
    "    else:\n",
    "        data.HasTV[i] = 1"
   ]
  },
  {
   "cell_type": "code",
   "execution_count": 414,
   "metadata": {},
   "outputs": [],
   "source": [
    "#NoiseLevel  -2:very_loud -1:loud 0:none 1:average 2:quiet\n",
    "for i in range(len(data)):\n",
    "    if data.NoiseLevel[i] == 1:\n",
    "        data.NoiseLevel[i] = 1\n",
    "    elif data.NoiseLevel[i] == 0:\n",
    "        data.NoiseLevel[i] = 0\n",
    "    elif data.NoiseLevel[i] == 4:\n",
    "        data.NoiseLevel[i] = -2\n",
    "    elif data.NoiseLevel[i] == 2:\n",
    "        data.NoiseLevel[i] = -1\n",
    "    else:\n",
    "         data.NoiseLevel[i] = 2"
   ]
  },
  {
   "cell_type": "code",
   "execution_count": 418,
   "metadata": {},
   "outputs": [],
   "source": [
    "#OutdoorSeating -1:False 0:none 1:True\n",
    "for i in range(len(data)):\n",
    "    if data.OutdoorSeating[i] == 1:\n",
    "        data.OutdoorSeating[i] = 0\n",
    "    elif data.OutdoorSeating[i] == 0:\n",
    "        data.OutdoorSeating[i] = -1\n",
    "    else:\n",
    "        data.OutdoorSeating[i] = 1"
   ]
  },
  {
   "cell_type": "code",
   "execution_count": 421,
   "metadata": {},
   "outputs": [],
   "source": [
    "#RestaurantsDelivery  -1:False 0:none 1:True\n",
    "for i in range(len(data)):\n",
    "    if data.RestaurantsDelivery[i] == 1:\n",
    "        data.RestaurantsDelivery[i] = 0\n",
    "    elif data.RestaurantsDelivery[i] == 0:\n",
    "        data.RestaurantsDelivery[i] = -1\n",
    "    else:\n",
    "        data.RestaurantsDelivery[i] = 1"
   ]
  },
  {
   "cell_type": "code",
   "execution_count": 424,
   "metadata": {},
   "outputs": [],
   "source": [
    "#RestaurantsGoodForGroups  -1:False 0:none 1:True\n",
    "for i in range(len(data)):\n",
    "    if data.RestaurantsGoodForGroups[i] == 1:\n",
    "        data.RestaurantsGoodForGroups[i] = 0\n",
    "    elif data.RestaurantsGoodForGroups[i] == 0:\n",
    "        data.RestaurantsGoodForGroups[i] = -1\n",
    "    else:\n",
    "        data.RestaurantsGoodForGroups[i] = 1"
   ]
  },
  {
   "cell_type": "code",
   "execution_count": 429,
   "metadata": {},
   "outputs": [],
   "source": [
    "#RestaurantsPriceRange2\n",
    "for i in range(len(data)):\n",
    "    if data.RestaurantsPriceRange2[i] == 1:\n",
    "        data.RestaurantsPriceRange2[i] = 2\n",
    "    elif data.RestaurantsPriceRange2[i] == 0:\n",
    "        data.RestaurantsPriceRange2[i] = 1\n",
    "    elif data.RestaurantsPriceRange2[i] == 4:\n",
    "        data.RestaurantsPriceRange2[i] = 0\n",
    "    elif data.RestaurantsPriceRange2[i] == 2:\n",
    "        data.RestaurantsPriceRange2[i] = 3\n",
    "    else:\n",
    "         data.RestaurantsPriceRange2[i] = 4"
   ]
  },
  {
   "cell_type": "code",
   "execution_count": 432,
   "metadata": {},
   "outputs": [],
   "source": [
    "#RestaurantsReservations -1:False 0:none 1:True\n",
    "for i in range(len(data)):\n",
    "    if data.RestaurantsReservations[i] == 1:\n",
    "        data.RestaurantsReservations[i] = 0\n",
    "    elif data.RestaurantsReservations[i] == 0:\n",
    "        data.RestaurantsReservations[i] = -1\n",
    "    else:\n",
    "        data.RestaurantsReservations[i] = 1"
   ]
  },
  {
   "cell_type": "code",
   "execution_count": 435,
   "metadata": {},
   "outputs": [],
   "source": [
    "#RestaurantsTableService -1:False 0:none 1:True\n",
    "for i in range(len(data)):\n",
    "    if data.RestaurantsTableService[i] == 1:\n",
    "        data.RestaurantsTableService[i] = 0\n",
    "    elif data.RestaurantsTableService[i] == 0:\n",
    "        data.RestaurantsTableService[i] = -1\n",
    "    else:\n",
    "        data.RestaurantsTableService[i] = 1"
   ]
  },
  {
   "cell_type": "code",
   "execution_count": 439,
   "metadata": {},
   "outputs": [],
   "source": [
    "#RestaurantsTakeOut  -1:False 0:none 1:True\n",
    "for i in range(len(data)):\n",
    "    if data.RestaurantsTakeOut[i] == 1:\n",
    "        data.RestaurantsTakeOut[i] = 0\n",
    "    elif data.RestaurantsTakeOut[i] == 0:\n",
    "        data.RestaurantsTakeOut[i] = -1\n",
    "    else:\n",
    "        data.RestaurantsTakeOut[i] = 1"
   ]
  },
  {
   "cell_type": "code",
   "execution_count": 442,
   "metadata": {},
   "outputs": [],
   "source": [
    "#WiFi\n",
    "for i in range(len(data)):\n",
    "    if data.WiFi[i] == 4 or data.WiFi[i] == 0:\n",
    "        data.WiFi[i] = 2\n",
    "    elif data.WiFi[i] == 5 or data.WiFi[i] == 1:\n",
    "        data.WiFi[i] = -1\n",
    "    elif data.WiFi[i] == 3:\n",
    "        data.WiFi[i] = 0\n",
    "    else:\n",
    "         data.WiFi[i] = 1"
   ]
  },
  {
   "cell_type": "code",
   "execution_count": 445,
   "metadata": {},
   "outputs": [],
   "source": [
    "data['stars'] = feature['stars']"
   ]
  },
  {
   "cell_type": "code",
   "execution_count": null,
   "metadata": {},
   "outputs": [],
   "source": []
  }
 ],
 "metadata": {
  "kernelspec": {
   "display_name": "Python 3",
   "language": "python",
   "name": "python3"
  },
  "language_info": {
   "codemirror_mode": {
    "name": "ipython",
    "version": 3
   },
   "file_extension": ".py",
   "mimetype": "text/x-python",
   "name": "python",
   "nbconvert_exporter": "python",
   "pygments_lexer": "ipython3",
   "version": "3.7.1"
  }
 },
 "nbformat": 4,
 "nbformat_minor": 2
}
