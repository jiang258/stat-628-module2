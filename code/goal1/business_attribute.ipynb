{
 "cells": [
  {
   "cell_type": "code",
   "execution_count": 1,
   "metadata": {},
   "outputs": [],
   "source": [
    "import json\n",
    "import pandas as pd\n",
    "import numpy as np\n",
    "import plotly as py"
   ]
  },
  {
   "cell_type": "code",
   "execution_count": 2,
   "metadata": {},
   "outputs": [],
   "source": [
    "df2 = pd.read_json('business_train.json',orient = 'records',lines = True)"
   ]
  },
  {
   "cell_type": "code",
   "execution_count": 3,
   "metadata": {},
   "outputs": [],
   "source": [
    "ind=[]\n",
    "cate=df2[\"categories\"].tolist()\n",
    "for i in range(len(cate)):\n",
    "    if cate[i]==None:\n",
    "        continue\n",
    "    if (\"Chinese\" in cate[i])|(\"Thai\" in cate[i])|(\"Japanese\" in cate[i])|(\"Asian\" in cate[i])|(\"Korean\" in cate[i]):\n",
    "        continue\n",
    "    if (\"Brunch\" in cate[i])|(\"Breakfast\" in cate[i]):\n",
    "        ind.append(i)"
   ]
  },
  {
   "cell_type": "code",
   "execution_count": 4,
   "metadata": {},
   "outputs": [],
   "source": [
    "dfbrunch=df2.iloc[ind]"
   ]
  },
  {
   "cell_type": "code",
   "execution_count": 5,
   "metadata": {},
   "outputs": [],
   "source": [
    "dfbrunch.index = list(range(len(dfbrunch)))"
   ]
  },
  {
   "cell_type": "code",
   "execution_count": 6,
   "metadata": {},
   "outputs": [
    {
     "name": "stderr",
     "output_type": "stream",
     "text": [
      "/Users/jiangyunwen/anaconda3/lib/python3.7/site-packages/IPython/core/interactiveshell.py:3020: DtypeWarning:\n",
      "\n",
      "Columns (0) have mixed types. Specify dtype option on import or set low_memory=False.\n",
      "\n"
     ]
    }
   ],
   "source": [
    "stars = pd.read_csv('brunch.csv')\n",
    "stars = stars[['business_id','stars']]"
   ]
  },
  {
   "cell_type": "code",
   "execution_count": 7,
   "metadata": {},
   "outputs": [],
   "source": [
    "train = stars.groupby(['business_id'])['stars'].agg('mean')"
   ]
  },
  {
   "cell_type": "code",
   "execution_count": 8,
   "metadata": {},
   "outputs": [],
   "source": [
    "train_new = train.reset_index()[['business_id']]\n",
    "train_new = train_new.merge(train.reset_index(), suffixes=[\"\", \"\"], how='left', on=['business_id'])"
   ]
  },
  {
   "cell_type": "code",
   "execution_count": 9,
   "metadata": {},
   "outputs": [],
   "source": [
    "train_new = train_new.merge(dfbrunch,how = 'left', on = ['business_id'])"
   ]
  },
  {
   "cell_type": "code",
   "execution_count": 10,
   "metadata": {},
   "outputs": [],
   "source": [
    "train1 = train_new[['business_id','stars','attributes']]"
   ]
  },
  {
   "cell_type": "code",
   "execution_count": 11,
   "metadata": {},
   "outputs": [
    {
     "data": {
      "text/html": [
       "<div>\n",
       "<style scoped>\n",
       "    .dataframe tbody tr th:only-of-type {\n",
       "        vertical-align: middle;\n",
       "    }\n",
       "\n",
       "    .dataframe tbody tr th {\n",
       "        vertical-align: top;\n",
       "    }\n",
       "\n",
       "    .dataframe thead th {\n",
       "        text-align: right;\n",
       "    }\n",
       "</style>\n",
       "<table border=\"1\" class=\"dataframe\">\n",
       "  <thead>\n",
       "    <tr style=\"text-align: right;\">\n",
       "      <th></th>\n",
       "      <th>business_id</th>\n",
       "      <th>stars</th>\n",
       "      <th>attributes</th>\n",
       "    </tr>\n",
       "  </thead>\n",
       "  <tbody>\n",
       "    <tr>\n",
       "      <th>0</th>\n",
       "      <td>133.0</td>\n",
       "      <td>2.944444</td>\n",
       "      <td>{'BusinessParking': '{'garage': False, 'street...</td>\n",
       "    </tr>\n",
       "    <tr>\n",
       "      <th>1</th>\n",
       "      <td>147.0</td>\n",
       "      <td>4.163121</td>\n",
       "      <td>{'OutdoorSeating': 'False', 'RestaurantsPriceR...</td>\n",
       "    </tr>\n",
       "    <tr>\n",
       "      <th>2</th>\n",
       "      <td>218.0</td>\n",
       "      <td>4.578512</td>\n",
       "      <td>{'BikeParking': 'True', 'HasTV': 'False', 'Res...</td>\n",
       "    </tr>\n",
       "    <tr>\n",
       "      <th>3</th>\n",
       "      <td>225.0</td>\n",
       "      <td>3.750000</td>\n",
       "      <td>{'RestaurantsTakeOut': 'True', 'RestaurantsRes...</td>\n",
       "    </tr>\n",
       "    <tr>\n",
       "      <th>4</th>\n",
       "      <td>469.0</td>\n",
       "      <td>3.620690</td>\n",
       "      <td>{'BikeParking': 'True', 'RestaurantsDelivery':...</td>\n",
       "    </tr>\n",
       "  </tbody>\n",
       "</table>\n",
       "</div>"
      ],
      "text/plain": [
       "   business_id     stars                                         attributes\n",
       "0        133.0  2.944444  {'BusinessParking': '{'garage': False, 'street...\n",
       "1        147.0  4.163121  {'OutdoorSeating': 'False', 'RestaurantsPriceR...\n",
       "2        218.0  4.578512  {'BikeParking': 'True', 'HasTV': 'False', 'Res...\n",
       "3        225.0  3.750000  {'RestaurantsTakeOut': 'True', 'RestaurantsRes...\n",
       "4        469.0  3.620690  {'BikeParking': 'True', 'RestaurantsDelivery':..."
      ]
     },
     "execution_count": 11,
     "metadata": {},
     "output_type": "execute_result"
    }
   ],
   "source": [
    "train1.head()"
   ]
  },
  {
   "cell_type": "code",
   "execution_count": 18,
   "metadata": {},
   "outputs": [],
   "source": [
    "attribute = ['AcceptsInsurance', 'Alcohol', 'Ambience', 'BYOB','BYOBCorkage', 'BestNights', 'BikeParking','BusinessAcceptsBitcoin',\n",
    "                 'BusinessAcceptsCreditCards','BusinessParking', 'ByAppointmentOnly', 'Caters', 'CoatCheck','Corkage', 'DietaryRestrictions', \n",
    "                'DogsAllowed', 'DriveThru', 'GoodForDancing', 'GoodForKids', 'GoodForMeal', 'HappyHour','HasTV', 'Music', 'NoiseLevel', \n",
    "                'Open24Hours', 'OutdoorSeating', 'RestaurantsAttire','RestaurantsCounterService', 'RestaurantsDelivery', 'RestaurantsGoodForGroups',\n",
    "                'RestaurantsPriceRange2', 'RestaurantsReservations', 'RestaurantsTableService', 'RestaurantsTakeOut', 'Smoking',\n",
    "                'WheelchairAccessible', 'WiFi']"
   ]
  },
  {
   "cell_type": "code",
   "execution_count": 224,
   "metadata": {},
   "outputs": [],
   "source": [
    "features = []\n",
    "for i in range(len(train1)):\n",
    "    if train1['attributes'][i] != None:\n",
    "        item = []\n",
    "        item.append(train1['business_id'][i])\n",
    "        item.append(train1['stars'][i])\n",
    "        for j in range(len(attribute)):\n",
    "            if attribute[j] not in train1['attributes'][i].keys():\n",
    "                item.append('None')      #missing values :'None'\n",
    "            else:\n",
    "                key = attribute[j]\n",
    "                item.append(str(train1['attributes'][i][key]))\n",
    "        features.append(item)"
   ]
  },
  {
   "cell_type": "code",
   "execution_count": 225,
   "metadata": {},
   "outputs": [],
   "source": [
    "feature = pd.DataFrame(features,columns = ['business_id','stars','AcceptsInsurance', 'Alcohol', 'Ambience', 'BYOB','BYOBCorkage', 'BestNights', 'BikeParking','BusinessAcceptsBitcoin',\n",
    "                 'BusinessAcceptsCreditCards','BusinessParking', 'ByAppointmentOnly', 'Caters', 'CoatCheck','Corkage', 'DietaryRestrictions', \n",
    "                'DogsAllowed', 'DriveThru', 'GoodForDancing', 'GoodForKids', 'GoodForMeal', 'HappyHour','HasTV', 'Music', 'NoiseLevel', \n",
    "                'Open24Hours', 'OutdoorSeating', 'RestaurantsAttire','RestaurantsCounterService', 'RestaurantsDelivery', 'RestaurantsGoodForGroups',\n",
    "                'RestaurantsPriceRange2', 'RestaurantsReservations', 'RestaurantsTableService', 'RestaurantsTakeOut', 'Smoking',\n",
    "                'WheelchairAccessible', 'WiFi'])"
   ]
  },
  {
   "cell_type": "code",
   "execution_count": 226,
   "metadata": {},
   "outputs": [
    {
     "data": {
      "text/plain": [
       "u'casual'    2081\n",
       "'casual'     1584\n",
       "None          550\n",
       "u'dressy'      34\n",
       "'dressy'       19\n",
       "'formal'        4\n",
       "Name: RestaurantsAttire, dtype: int64"
      ]
     },
     "execution_count": 226,
     "metadata": {},
     "output_type": "execute_result"
    }
   ],
   "source": [
    "feature.RestaurantsAttire.value_counts()"
   ]
  },
  {
   "cell_type": "code",
   "execution_count": 227,
   "metadata": {},
   "outputs": [
    {
     "data": {
      "text/plain": [
       "4272"
      ]
     },
     "execution_count": 227,
     "metadata": {},
     "output_type": "execute_result"
    }
   ],
   "source": [
    "len(feature)"
   ]
  },
  {
   "cell_type": "code",
   "execution_count": 228,
   "metadata": {},
   "outputs": [],
   "source": [
    "#delete 80% missing\n",
    "#AcceptsInsurance 4271/4272 missing\n",
    "#Ambience\n",
    "#BYOB 4270/4272\n",
    "#BYOBCorkage 4168/4272\n",
    "#BestNights' 4038/4272\n",
    "#BusinessAcceptsBitcoin 3849/4272\n",
    "#ByAppointmentOnly 4191/4272\n",
    "#CoatCheck 4004/4272\n",
    "#Corkage 4216/4272\n",
    "#DietaryRestrictions 4267/4272\n",
    "#DogsAllowed 3759/4272\n",
    "#DriveThru 4005/4272\n",
    "#GoodForDancing 3938/4272\n",
    "#HappyHour 3941/4272\n",
    "#GoodForMeal (breakfast/brunch)\n",
    "#Music 3927/4272\n",
    "#Open24Hours 4270/4272\n",
    "#RestaurantsCounterService 4270/4272\n",
    "#Smoking 4016/4272\n",
    "#WheelchairAccessible"
   ]
  },
  {
   "cell_type": "code",
   "execution_count": 229,
   "metadata": {},
   "outputs": [],
   "source": [
    "#Alcohol None:0, none:1, beer_and_wine:2, full_bar:3,\n",
    "import warnings\n",
    "warnings.filterwarnings('ignore')\n",
    "for i in range(len(feature)):\n",
    "    if feature.Alcohol[i] == 'None':\n",
    "        feature.Alcohol[i] = 0\n",
    "    if feature.Alcohol[i] == \"u'none'\" or feature.Alcohol[i] == \"'none'\":\n",
    "        feature.Alcohol[i] = 1\n",
    "    if feature.Alcohol[i] == \"u'beer_and_wine'\" or feature.Alcohol[i] == \"'beer_and_wine'\":\n",
    "        feature.Alcohol[i] = 2\n",
    "    if feature.Alcohol[i] == \"u'full_bar'\" or feature.Alcohol[i] == \"'full_bar'\":\n",
    "        feature.Alcohol[i] = 3"
   ]
  },
  {
   "cell_type": "code",
   "execution_count": 230,
   "metadata": {},
   "outputs": [],
   "source": [
    "#Ambience:  expand to 9 attributes and delete Ambience\n",
    "ambience = ['romantic','intimate','classy','hipster','divey','touristy','trendy','upscale','casual']\n",
    "romantic,intimate,classy,hipster,divey,touristy,trendy,upscale,casual = [],[],[],[],[],[],[],[],[]\n",
    "for i in range(len(feature)):\n",
    "    if feature.Ambience[i] == 'None':\n",
    "        romantic.append('None')\n",
    "        intimate.append('None')\n",
    "        classy.append('None')\n",
    "        hipster.append('None')\n",
    "        divey.append('None')\n",
    "        touristy.append('None')\n",
    "        trendy.append('None')\n",
    "        upscale.append('None')\n",
    "        casual.append('None')\n",
    "    else:\n",
    "        d = eval(feature.Ambience[i])\n",
    "        romantic.append(str(d['romantic']))\n",
    "        intimate.append(str(d['intimate']))\n",
    "        classy.append(str(d['classy']))\n",
    "        if 'hipster' in d.keys():\n",
    "            hipster.append(str(d['hipster']))\n",
    "        else:\n",
    "            hipster.append('None')\n",
    "        if 'divey' in d.keys():\n",
    "            divey.append(str(d['divey']))\n",
    "        else:\n",
    "            divey.append('None')\n",
    "        touristy.append(str(d['touristy']))\n",
    "        trendy.append(str(d['trendy']))\n",
    "        if 'upscale' in d.keys():\n",
    "            upscale.append(str(d['upscale']))\n",
    "        else:\n",
    "            upscale.append('None')\n",
    "        casual.append(str(d['casual']))"
   ]
  },
  {
   "cell_type": "code",
   "execution_count": 231,
   "metadata": {},
   "outputs": [],
   "source": [
    "Ambience = pd.DataFrame({'romantic':romantic, 'intimate':intimate, 'classy':classy, 'hipster':hipster,\n",
    "                                       'divey':divey,'touristy':touristy,'trendy':trendy,'upscale':upscale,'casual':casual})\n",
    "feature = feature.join(Ambience)"
   ]
  },
  {
   "cell_type": "code",
   "execution_count": 232,
   "metadata": {},
   "outputs": [],
   "source": [
    "for i in range(len(feature)):\n",
    "    if feature.BusinessParking[i] != 'None':\n",
    "        if 'True' in feature.BusinessParking[i]:\n",
    "            feature.BusinessParking[i] = 'True'\n",
    "        else:\n",
    "            feature.BusinessParking[i] = 'False' "
   ]
  },
  {
   "cell_type": "code",
   "execution_count": 233,
   "metadata": {},
   "outputs": [],
   "source": [
    "for i in range(len(feature)):\n",
    "    if feature.NoiseLevel[i] == \"u'average'\" or feature.NoiseLevel[i] == \"'average'\":\n",
    "        feature.NoiseLevel[i] = 'average'\n",
    "    if feature.NoiseLevel[i] == \"u'quiet'\" or feature.NoiseLevel[i] == \"'quiet'\":\n",
    "        feature.NoiseLevel[i] = 'quiet'\n",
    "    if feature.NoiseLevel[i] == \"u'loud'\" or feature.NoiseLevel[i] == \"'loud'\":\n",
    "        feature.NoiseLevel[i] = 'loud'\n",
    "    if feature.NoiseLevel[i] == \"u'very_loud'\" or feature.NoiseLevel[i] == \"'very_loud'\":\n",
    "        feature.NoiseLevel[i] = 'very_loud'       "
   ]
  },
  {
   "cell_type": "code",
   "execution_count": 234,
   "metadata": {},
   "outputs": [],
   "source": [
    "for i in range(len(feature)):\n",
    "    if feature.RestaurantsAttire[i] == \"u'casual'\" or feature.RestaurantsAttire[i] == \"'casual'\":\n",
    "        feature.RestaurantsAttire[i] = 'casual'\n",
    "    if feature.RestaurantsAttire[i] == \"u'dressy'\" or feature.RestaurantsAttire[i] == \"'dressy'\":\n",
    "        feature.RestaurantsAttire[i] = 'dressy'\n",
    "    if feature.RestaurantsAttire[i] == \"'formal'\":\n",
    "        feature.RestaurantsAttire[i] = 'formal'"
   ]
  },
  {
   "cell_type": "code",
   "execution_count": 235,
   "metadata": {},
   "outputs": [],
   "source": [
    "for i in range(len(feature)):\n",
    "    if feature.WiFi[i] == \"u'free'\" or feature.WiFi[i] == \"'free'\":\n",
    "        feature.WiFi[i] = 'free'\n",
    "    if feature.WiFi[i] == \"u'no'\" or feature.WiFi[i] == \"'no'\":\n",
    "        feature.WiFi[i] = 'no'\n",
    "    if feature.WiFi[i] == \"u'paid'\" or feature.WiFi[i] == \"'paid'\":\n",
    "        feature.WiFi[i] = 'paid'"
   ]
  },
  {
   "cell_type": "code",
   "execution_count": 236,
   "metadata": {},
   "outputs": [
    {
     "data": {
      "text/html": [
       "<div>\n",
       "<style scoped>\n",
       "    .dataframe tbody tr th:only-of-type {\n",
       "        vertical-align: middle;\n",
       "    }\n",
       "\n",
       "    .dataframe tbody tr th {\n",
       "        vertical-align: top;\n",
       "    }\n",
       "\n",
       "    .dataframe thead th {\n",
       "        text-align: right;\n",
       "    }\n",
       "</style>\n",
       "<table border=\"1\" class=\"dataframe\">\n",
       "  <thead>\n",
       "    <tr style=\"text-align: right;\">\n",
       "      <th></th>\n",
       "      <th>business_id</th>\n",
       "      <th>stars</th>\n",
       "      <th>AcceptsInsurance</th>\n",
       "      <th>Alcohol</th>\n",
       "      <th>Ambience</th>\n",
       "      <th>BYOB</th>\n",
       "      <th>BYOBCorkage</th>\n",
       "      <th>BestNights</th>\n",
       "      <th>BikeParking</th>\n",
       "      <th>BusinessAcceptsBitcoin</th>\n",
       "      <th>...</th>\n",
       "      <th>WiFi</th>\n",
       "      <th>romantic</th>\n",
       "      <th>intimate</th>\n",
       "      <th>classy</th>\n",
       "      <th>hipster</th>\n",
       "      <th>divey</th>\n",
       "      <th>touristy</th>\n",
       "      <th>trendy</th>\n",
       "      <th>upscale</th>\n",
       "      <th>casual</th>\n",
       "    </tr>\n",
       "  </thead>\n",
       "  <tbody>\n",
       "    <tr>\n",
       "      <th>0</th>\n",
       "      <td>133.0</td>\n",
       "      <td>2.944444</td>\n",
       "      <td>None</td>\n",
       "      <td>1</td>\n",
       "      <td>{'romantic': False, 'intimate': False, 'classy...</td>\n",
       "      <td>None</td>\n",
       "      <td>None</td>\n",
       "      <td>None</td>\n",
       "      <td>False</td>\n",
       "      <td>None</td>\n",
       "      <td>...</td>\n",
       "      <td>free</td>\n",
       "      <td>False</td>\n",
       "      <td>False</td>\n",
       "      <td>False</td>\n",
       "      <td>False</td>\n",
       "      <td>False</td>\n",
       "      <td>False</td>\n",
       "      <td>False</td>\n",
       "      <td>False</td>\n",
       "      <td>False</td>\n",
       "    </tr>\n",
       "    <tr>\n",
       "      <th>1</th>\n",
       "      <td>147.0</td>\n",
       "      <td>4.163121</td>\n",
       "      <td>None</td>\n",
       "      <td>3</td>\n",
       "      <td>{'romantic': False, 'intimate': False, 'touris...</td>\n",
       "      <td>None</td>\n",
       "      <td>None</td>\n",
       "      <td>{'monday': False, 'tuesday': False, 'friday': ...</td>\n",
       "      <td>True</td>\n",
       "      <td>None</td>\n",
       "      <td>...</td>\n",
       "      <td>free</td>\n",
       "      <td>False</td>\n",
       "      <td>False</td>\n",
       "      <td>False</td>\n",
       "      <td>False</td>\n",
       "      <td>True</td>\n",
       "      <td>False</td>\n",
       "      <td>False</td>\n",
       "      <td>False</td>\n",
       "      <td>False</td>\n",
       "    </tr>\n",
       "    <tr>\n",
       "      <th>2</th>\n",
       "      <td>218.0</td>\n",
       "      <td>4.578512</td>\n",
       "      <td>None</td>\n",
       "      <td>1</td>\n",
       "      <td>{'romantic': False, 'intimate': False, 'classy...</td>\n",
       "      <td>None</td>\n",
       "      <td>None</td>\n",
       "      <td>None</td>\n",
       "      <td>True</td>\n",
       "      <td>False</td>\n",
       "      <td>...</td>\n",
       "      <td>free</td>\n",
       "      <td>False</td>\n",
       "      <td>False</td>\n",
       "      <td>False</td>\n",
       "      <td>False</td>\n",
       "      <td>False</td>\n",
       "      <td>False</td>\n",
       "      <td>False</td>\n",
       "      <td>False</td>\n",
       "      <td>True</td>\n",
       "    </tr>\n",
       "    <tr>\n",
       "      <th>3</th>\n",
       "      <td>225.0</td>\n",
       "      <td>3.750000</td>\n",
       "      <td>None</td>\n",
       "      <td>1</td>\n",
       "      <td>None</td>\n",
       "      <td>None</td>\n",
       "      <td>None</td>\n",
       "      <td>None</td>\n",
       "      <td>True</td>\n",
       "      <td>None</td>\n",
       "      <td>...</td>\n",
       "      <td>free</td>\n",
       "      <td>None</td>\n",
       "      <td>None</td>\n",
       "      <td>None</td>\n",
       "      <td>None</td>\n",
       "      <td>None</td>\n",
       "      <td>None</td>\n",
       "      <td>None</td>\n",
       "      <td>None</td>\n",
       "      <td>None</td>\n",
       "    </tr>\n",
       "    <tr>\n",
       "      <th>4</th>\n",
       "      <td>469.0</td>\n",
       "      <td>3.620690</td>\n",
       "      <td>None</td>\n",
       "      <td>1</td>\n",
       "      <td>{'romantic': False, 'intimate': False, 'classy...</td>\n",
       "      <td>None</td>\n",
       "      <td>None</td>\n",
       "      <td>None</td>\n",
       "      <td>True</td>\n",
       "      <td>None</td>\n",
       "      <td>...</td>\n",
       "      <td>free</td>\n",
       "      <td>False</td>\n",
       "      <td>False</td>\n",
       "      <td>False</td>\n",
       "      <td>False</td>\n",
       "      <td>False</td>\n",
       "      <td>False</td>\n",
       "      <td>False</td>\n",
       "      <td>False</td>\n",
       "      <td>True</td>\n",
       "    </tr>\n",
       "  </tbody>\n",
       "</table>\n",
       "<p>5 rows × 48 columns</p>\n",
       "</div>"
      ],
      "text/plain": [
       "   business_id     stars AcceptsInsurance Alcohol  \\\n",
       "0        133.0  2.944444             None       1   \n",
       "1        147.0  4.163121             None       3   \n",
       "2        218.0  4.578512             None       1   \n",
       "3        225.0  3.750000             None       1   \n",
       "4        469.0  3.620690             None       1   \n",
       "\n",
       "                                            Ambience  BYOB BYOBCorkage  \\\n",
       "0  {'romantic': False, 'intimate': False, 'classy...  None        None   \n",
       "1  {'romantic': False, 'intimate': False, 'touris...  None        None   \n",
       "2  {'romantic': False, 'intimate': False, 'classy...  None        None   \n",
       "3                                               None  None        None   \n",
       "4  {'romantic': False, 'intimate': False, 'classy...  None        None   \n",
       "\n",
       "                                          BestNights BikeParking  \\\n",
       "0                                               None       False   \n",
       "1  {'monday': False, 'tuesday': False, 'friday': ...        True   \n",
       "2                                               None        True   \n",
       "3                                               None        True   \n",
       "4                                               None        True   \n",
       "\n",
       "  BusinessAcceptsBitcoin  ...    WiFi romantic intimate classy hipster  divey  \\\n",
       "0                   None  ...    free    False    False  False   False  False   \n",
       "1                   None  ...    free    False    False  False   False   True   \n",
       "2                  False  ...    free    False    False  False   False  False   \n",
       "3                   None  ...    free     None     None   None    None   None   \n",
       "4                   None  ...    free    False    False  False   False  False   \n",
       "\n",
       "  touristy trendy upscale casual  \n",
       "0    False  False   False  False  \n",
       "1    False  False   False  False  \n",
       "2    False  False   False   True  \n",
       "3     None   None    None   None  \n",
       "4    False  False   False   True  \n",
       "\n",
       "[5 rows x 48 columns]"
      ]
     },
     "execution_count": 236,
     "metadata": {},
     "output_type": "execute_result"
    }
   ],
   "source": [
    "feature.head()"
   ]
  },
  {
   "cell_type": "code",
   "execution_count": 237,
   "metadata": {},
   "outputs": [],
   "source": [
    "final = feature[['stars','Alcohol','BikeParking','BusinessAcceptsCreditCards','BusinessParking','Caters','GoodForKids',\n",
    "                         'HasTV','NoiseLevel','RestaurantsAttire','OutdoorSeating','RestaurantsDelivery','RestaurantsGoodForGroups','RestaurantsPriceRange2',\n",
    "                         'RestaurantsReservations','RestaurantsTableService','RestaurantsTakeOut','WiFi','romantic','intimate','classy',\n",
    "                         'hipster','divey','touristy','trendy','upscale','casual']]"
   ]
  },
  {
   "cell_type": "code",
   "execution_count": 238,
   "metadata": {},
   "outputs": [
    {
     "data": {
      "text/html": [
       "<div>\n",
       "<style scoped>\n",
       "    .dataframe tbody tr th:only-of-type {\n",
       "        vertical-align: middle;\n",
       "    }\n",
       "\n",
       "    .dataframe tbody tr th {\n",
       "        vertical-align: top;\n",
       "    }\n",
       "\n",
       "    .dataframe thead th {\n",
       "        text-align: right;\n",
       "    }\n",
       "</style>\n",
       "<table border=\"1\" class=\"dataframe\">\n",
       "  <thead>\n",
       "    <tr style=\"text-align: right;\">\n",
       "      <th></th>\n",
       "      <th>stars</th>\n",
       "      <th>Alcohol</th>\n",
       "      <th>BikeParking</th>\n",
       "      <th>BusinessAcceptsCreditCards</th>\n",
       "      <th>BusinessParking</th>\n",
       "      <th>Caters</th>\n",
       "      <th>GoodForKids</th>\n",
       "      <th>HasTV</th>\n",
       "      <th>NoiseLevel</th>\n",
       "      <th>RestaurantsAttire</th>\n",
       "      <th>...</th>\n",
       "      <th>WiFi</th>\n",
       "      <th>romantic</th>\n",
       "      <th>intimate</th>\n",
       "      <th>classy</th>\n",
       "      <th>hipster</th>\n",
       "      <th>divey</th>\n",
       "      <th>touristy</th>\n",
       "      <th>trendy</th>\n",
       "      <th>upscale</th>\n",
       "      <th>casual</th>\n",
       "    </tr>\n",
       "  </thead>\n",
       "  <tbody>\n",
       "    <tr>\n",
       "      <th>0</th>\n",
       "      <td>2.944444</td>\n",
       "      <td>1</td>\n",
       "      <td>0</td>\n",
       "      <td>1</td>\n",
       "      <td>2</td>\n",
       "      <td>0</td>\n",
       "      <td>2</td>\n",
       "      <td>0</td>\n",
       "      <td>3</td>\n",
       "      <td>1</td>\n",
       "      <td>...</td>\n",
       "      <td>1</td>\n",
       "      <td>0</td>\n",
       "      <td>0</td>\n",
       "      <td>0</td>\n",
       "      <td>0</td>\n",
       "      <td>0</td>\n",
       "      <td>0</td>\n",
       "      <td>0</td>\n",
       "      <td>0</td>\n",
       "      <td>0</td>\n",
       "    </tr>\n",
       "    <tr>\n",
       "      <th>1</th>\n",
       "      <td>4.163121</td>\n",
       "      <td>3</td>\n",
       "      <td>2</td>\n",
       "      <td>2</td>\n",
       "      <td>2</td>\n",
       "      <td>0</td>\n",
       "      <td>0</td>\n",
       "      <td>0</td>\n",
       "      <td>2</td>\n",
       "      <td>1</td>\n",
       "      <td>...</td>\n",
       "      <td>1</td>\n",
       "      <td>0</td>\n",
       "      <td>0</td>\n",
       "      <td>0</td>\n",
       "      <td>0</td>\n",
       "      <td>2</td>\n",
       "      <td>0</td>\n",
       "      <td>0</td>\n",
       "      <td>0</td>\n",
       "      <td>0</td>\n",
       "    </tr>\n",
       "    <tr>\n",
       "      <th>2</th>\n",
       "      <td>4.578512</td>\n",
       "      <td>1</td>\n",
       "      <td>2</td>\n",
       "      <td>2</td>\n",
       "      <td>2</td>\n",
       "      <td>2</td>\n",
       "      <td>2</td>\n",
       "      <td>0</td>\n",
       "      <td>1</td>\n",
       "      <td>1</td>\n",
       "      <td>...</td>\n",
       "      <td>1</td>\n",
       "      <td>0</td>\n",
       "      <td>0</td>\n",
       "      <td>0</td>\n",
       "      <td>0</td>\n",
       "      <td>0</td>\n",
       "      <td>0</td>\n",
       "      <td>0</td>\n",
       "      <td>0</td>\n",
       "      <td>2</td>\n",
       "    </tr>\n",
       "    <tr>\n",
       "      <th>3</th>\n",
       "      <td>3.750000</td>\n",
       "      <td>1</td>\n",
       "      <td>2</td>\n",
       "      <td>1</td>\n",
       "      <td>1</td>\n",
       "      <td>1</td>\n",
       "      <td>1</td>\n",
       "      <td>0</td>\n",
       "      <td>0</td>\n",
       "      <td>0</td>\n",
       "      <td>...</td>\n",
       "      <td>1</td>\n",
       "      <td>1</td>\n",
       "      <td>1</td>\n",
       "      <td>1</td>\n",
       "      <td>1</td>\n",
       "      <td>1</td>\n",
       "      <td>1</td>\n",
       "      <td>1</td>\n",
       "      <td>1</td>\n",
       "      <td>1</td>\n",
       "    </tr>\n",
       "    <tr>\n",
       "      <th>4</th>\n",
       "      <td>3.620690</td>\n",
       "      <td>1</td>\n",
       "      <td>2</td>\n",
       "      <td>2</td>\n",
       "      <td>2</td>\n",
       "      <td>2</td>\n",
       "      <td>2</td>\n",
       "      <td>0</td>\n",
       "      <td>1</td>\n",
       "      <td>1</td>\n",
       "      <td>...</td>\n",
       "      <td>1</td>\n",
       "      <td>0</td>\n",
       "      <td>0</td>\n",
       "      <td>0</td>\n",
       "      <td>0</td>\n",
       "      <td>0</td>\n",
       "      <td>0</td>\n",
       "      <td>0</td>\n",
       "      <td>0</td>\n",
       "      <td>2</td>\n",
       "    </tr>\n",
       "  </tbody>\n",
       "</table>\n",
       "<p>5 rows × 27 columns</p>\n",
       "</div>"
      ],
      "text/plain": [
       "      stars  Alcohol  BikeParking  BusinessAcceptsCreditCards  \\\n",
       "0  2.944444        1            0                           1   \n",
       "1  4.163121        3            2                           2   \n",
       "2  4.578512        1            2                           2   \n",
       "3  3.750000        1            2                           1   \n",
       "4  3.620690        1            2                           2   \n",
       "\n",
       "   BusinessParking  Caters  GoodForKids  HasTV  NoiseLevel  RestaurantsAttire  \\\n",
       "0                2       0            2      0           3                  1   \n",
       "1                2       0            0      0           2                  1   \n",
       "2                2       2            2      0           1                  1   \n",
       "3                1       1            1      0           0                  0   \n",
       "4                2       2            2      0           1                  1   \n",
       "\n",
       "    ...    WiFi  romantic  intimate  classy  hipster  divey  touristy  trendy  \\\n",
       "0   ...       1         0         0       0        0      0         0       0   \n",
       "1   ...       1         0         0       0        0      2         0       0   \n",
       "2   ...       1         0         0       0        0      0         0       0   \n",
       "3   ...       1         1         1       1        1      1         1       1   \n",
       "4   ...       1         0         0       0        0      0         0       0   \n",
       "\n",
       "   upscale  casual  \n",
       "0        0       0  \n",
       "1        0       0  \n",
       "2        0       2  \n",
       "3        1       1  \n",
       "4        0       2  \n",
       "\n",
       "[5 rows x 27 columns]"
      ]
     },
     "execution_count": 238,
     "metadata": {},
     "output_type": "execute_result"
    }
   ],
   "source": [
    "from sklearn.preprocessing import LabelEncoder\n",
    "labelencoder = LabelEncoder()\n",
    "for col in final.columns[1:]:\n",
    "    final[col] = labelencoder.fit_transform(final[col])\n",
    "final.head()"
   ]
  },
  {
   "cell_type": "code",
   "execution_count": 239,
   "metadata": {},
   "outputs": [],
   "source": [
    "final.to_csv('attribute.csv')"
   ]
  },
  {
   "cell_type": "code",
   "execution_count": 244,
   "metadata": {},
   "outputs": [],
   "source": [
    "feature.to_csv('original_attribute.csv')"
   ]
  },
  {
   "cell_type": "code",
   "execution_count": 245,
   "metadata": {},
   "outputs": [],
   "source": [
    "X = final[['Alcohol','BikeParking','BusinessAcceptsCreditCards','BusinessParking','Caters','GoodForKids',\n",
    "                         'HasTV','NoiseLevel','RestaurantsAttire','OutdoorSeating','RestaurantsDelivery','RestaurantsGoodForGroups','RestaurantsPriceRange2',\n",
    "                         'RestaurantsReservations','RestaurantsTableService','RestaurantsTakeOut','WiFi','romantic','intimate','classy',\n",
    "                         'hipster','divey','touristy','trendy','upscale','casual']]\n",
    "y = final[['stars']]"
   ]
  },
  {
   "cell_type": "code",
   "execution_count": 246,
   "metadata": {},
   "outputs": [],
   "source": [
    "from sklearn.model_selection import train_test_split\n",
    "X_train,X_test, y_train, y_test = train_test_split(X,y,test_size=0.2, random_state=0)"
   ]
  },
  {
   "cell_type": "code",
   "execution_count": 247,
   "metadata": {},
   "outputs": [
    {
     "data": {
      "text/plain": [
       "0.42938072621153833"
      ]
     },
     "execution_count": 247,
     "metadata": {},
     "output_type": "execute_result"
    }
   ],
   "source": [
    "#GradientBoostingRegressor\n",
    "from sklearn.ensemble import GradientBoostingRegressor\n",
    "from sklearn.metrics import mean_squared_error\n",
    "clf = GradientBoostingRegressor()\n",
    "clf.fit(X_train,y_train)\n",
    "mean_squared_error(clf.predict(X_test),y_test)"
   ]
  },
  {
   "cell_type": "code",
   "execution_count": 256,
   "metadata": {},
   "outputs": [
    {
     "name": "stderr",
     "output_type": "stream",
     "text": [
      "/Users/jiangyunwen/anaconda3/lib/python3.7/site-packages/sklearn/utils/validation.py:761: DataConversionWarning:\n",
      "\n",
      "A column-vector y was passed when a 1d array was expected. Please change the shape of y to (n_samples, ), for example using ravel().\n",
      "\n"
     ]
    },
    {
     "data": {
      "text/plain": [
       "GradientBoostingRegressor(alpha=0.9, criterion='friedman_mse', init=None,\n",
       "             learning_rate=0.1, loss='ls', max_depth=3, max_features=None,\n",
       "             max_leaf_nodes=None, min_impurity_decrease=0.0,\n",
       "             min_impurity_split=None, min_samples_leaf=1,\n",
       "             min_samples_split=2, min_weight_fraction_leaf=0.0,\n",
       "             n_estimators=100, n_iter_no_change=None, presort='auto',\n",
       "             random_state=None, subsample=1.0, tol=0.0001,\n",
       "             validation_fraction=0.1, verbose=0, warm_start=False)"
      ]
     },
     "execution_count": 256,
     "metadata": {},
     "output_type": "execute_result"
    }
   ],
   "source": [
    "clf = GradientBoostingRegressor()\n",
    "clf.fit(X,y)"
   ]
  },
  {
   "cell_type": "code",
   "execution_count": 259,
   "metadata": {},
   "outputs": [
    {
     "data": {
      "image/png": "[encoded data removed]",
      "text/plain": [
       "<Figure size 432x288 with 1 Axes>"
      ]
     },
     "metadata": {
      "needs_background": "light"
     },
     "output_type": "display_data"
    }
   ],
   "source": [
    "#important features\n",
    "import numpy as np\n",
    "import matplotlib.pyplot as plt\n",
    "feature_importance = clf.feature_importances_\n",
    "feature_importance = 100.0 * (feature_importance / feature_importance.max())\n",
    "sorted_idx = np.argsort(feature_importance)\n",
    "pos = np.arange(sorted_idx.shape[0]) + .5\n",
    "plt.barh(pos, feature_importance[sorted_idx], align='center')\n",
    "plt.yticks(pos, X.columns[sorted_idx])\n",
    "plt.xlabel('Relative Importance')\n",
    "plt.title('Variable Importance')\n",
    "plt.show()"
   ]
  },
  {
   "cell_type": "code",
   "execution_count": 260,
   "metadata": {},
   "outputs": [
    {
     "data": {
      "image/png": "[encoded data removed]",
      "text/plain": [
       "<Figure size 720x432 with 1 Axes>"
      ]
     },
     "metadata": {
      "needs_background": "light"
     },
     "output_type": "display_data"
    }
   ],
   "source": [
    "import seaborn as sns\n",
    "import matplotlib.pyplot as plt\n",
    "cols = list(X.columns)\n",
    "feature_importance = pd.DataFrame(sorted(zip(clf.feature_importances_, cols)), columns=['Value','Feature'])\n",
    "\n",
    "plt.figure(figsize=(10, 6))\n",
    "sns.barplot(x=\"Value\", y=\"Feature\", data=feature_importance.sort_values(by=\"Value\", ascending=False)[:10])\n",
    "plt.title('Feature importance')\n",
    "plt.tight_layout()"
   ]
  },
  {
   "cell_type": "code",
   "execution_count": 264,
   "metadata": {},
   "outputs": [
    {
     "data": {
      "text/plain": [
       "1    2644\n",
       "2    1163\n",
       "0     465\n",
       "Name: RestaurantsTableService, dtype: int64"
      ]
     },
     "execution_count": 264,
     "metadata": {},
     "output_type": "execute_result"
    }
   ],
   "source": [
    "#label of RestaurantsTableService\n",
    "data = pd.read_csv('attribute.csv')"
   ]
  },
  {
   "cell_type": "code",
   "execution_count": 288,
   "metadata": {},
   "outputs": [
    {
     "data": {
      "text/plain": [
       "1    2139\n",
       "0    1682\n",
       "4     291\n",
       "2     149\n",
       "3      11\n",
       "Name: RestaurantsPriceRange2, dtype: int64"
      ]
     },
     "execution_count": 288,
     "metadata": {},
     "output_type": "execute_result"
    }
   ],
   "source": [
    "data.RestaurantsPriceRange2.value_counts()"
   ]
  },
  {
   "cell_type": "code",
   "execution_count": 290,
   "metadata": {},
   "outputs": [
    {
     "data": {
      "text/plain": [
       "2       2139\n",
       "1       1682\n",
       "None     291\n",
       "3        149\n",
       "4         11\n",
       "Name: RestaurantsPriceRange2, dtype: int64"
      ]
     },
     "execution_count": 290,
     "metadata": {},
     "output_type": "execute_result"
    }
   ],
   "source": [
    "feature.RestaurantsPriceRange2.value_counts()"
   ]
  },
  {
   "cell_type": "code",
   "execution_count": null,
   "metadata": {},
   "outputs": [],
   "source": []
  }
 ],
 "metadata": {
  "kernelspec": {
   "display_name": "Python 3",
   "language": "python",
   "name": "python3"
  },
  "language_info": {
   "codemirror_mode": {
    "name": "ipython",
    "version": 3
   },
   "file_extension": ".py",
   "mimetype": "text/x-python",
   "name": "python",
   "nbconvert_exporter": "python",
   "pygments_lexer": "ipython3",
   "version": "3.7.1"
  }
 },
 "nbformat": 4,
 "nbformat_minor": 2
}
